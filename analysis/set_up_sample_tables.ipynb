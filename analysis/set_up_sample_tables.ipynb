{
 "cells": [
  {
   "cell_type": "code",
   "execution_count": 28,
   "id": "199b2a11-c098-4e2c-bfd6-901196b1b4ed",
   "metadata": {},
   "outputs": [],
   "source": [
    ".libPaths(\"~/R/x86_64-pc-linux-gnu-library/4.0/\")"
   ]
  },
  {
   "cell_type": "code",
   "execution_count": 80,
   "id": "6938fdbf-70eb-4758-ab01-e8fd6a9f8030",
   "metadata": {},
   "outputs": [
    {
     "data": {
      "text/html": [
       "'/home/jupyter-seth127/LAJC-expungement'"
      ],
      "text/latex": [
       "'/home/jupyter-seth127/LAJC-expungement'"
      ],
      "text/markdown": [
       "'/home/jupyter-seth127/LAJC-expungement'"
      ],
      "text/plain": [
       "[1] \"/home/jupyter-seth127/LAJC-expungement\""
      ]
     },
     "metadata": {},
     "output_type": "display_data"
    }
   ],
   "source": [
    "setwd(\"~/LAJC-expungement/\")\n",
    "here::here()"
   ]
  },
  {
   "cell_type": "code",
   "execution_count": 134,
   "id": "907cd041-ec13-4d09-adac-ce01f3a6906c",
   "metadata": {},
   "outputs": [
    {
     "name": "stderr",
     "output_type": "stream",
     "text": [
      "Installing package into ‘/home/jupyter-seth127/R/x86_64-pc-linux-gnu-library/4.0’\n",
      "(as ‘lib’ is unspecified)\n",
      "\n",
      "also installing the dependencies ‘blob’, ‘lubridate’, ‘Rcpp’\n",
      "\n",
      "\n"
     ]
    }
   ],
   "source": [
    "install.packages(\"RPostgres\")"
   ]
  },
  {
   "cell_type": "code",
   "execution_count": 46,
   "id": "109b92e7-cf73-48e2-942f-c1b0d30be1a8",
   "metadata": {},
   "outputs": [
    {
     "name": "stderr",
     "output_type": "stream",
     "text": [
      "\n",
      "Attaching package: ‘dplyr’\n",
      "\n",
      "\n",
      "The following objects are masked from ‘package:stats’:\n",
      "\n",
      "    filter, lag\n",
      "\n",
      "\n",
      "The following objects are masked from ‘package:base’:\n",
      "\n",
      "    intersect, setdiff, setequal, union\n",
      "\n",
      "\n"
     ]
    }
   ],
   "source": [
    "library(DBI)\n",
    "library(dplyr)\n",
    "library(here)"
   ]
  },
  {
   "cell_type": "code",
   "execution_count": 27,
   "id": "3b19f993-f00b-4c36-8be0-6ebdafd7a7f9",
   "metadata": {},
   "outputs": [],
   "source": [
    "postPass=Sys.getenv(\"POSTGRES_PASS\")\n",
    "con <- dbConnect(\n",
    "  RPostgres::Postgres(),\n",
    "  dbname = 'expunge',\n",
    "  host = 'localhost',\n",
    "  port = '5432',\n",
    "  password = postPass,\n",
    "  user = 'jupyter'\n",
    ")"
   ]
  },
  {
   "cell_type": "code",
   "execution_count": 135,
   "id": "3d30c843-2596-46df-a473-869a10575797",
   "metadata": {},
   "outputs": [
    {
     "name": "stdout",
     "output_type": "stream",
     "text": [
      "    count\n",
      "1 9054266\n"
     ]
    }
   ],
   "source": [
    "res <- dbSendQuery(con, \"SELECT COUNT(person_id) FROM expunge\")\n",
    "print(dbFetch(res))\n",
    "dbClearResult(res)"
   ]
  },
  {
   "cell_type": "code",
   "execution_count": 30,
   "id": "d0ac6391-17d9-4f98-bb75-3c6ae11cadb5",
   "metadata": {},
   "outputs": [
    {
     "data": {
      "text/html": [
       "<table class=\"dataframe\">\n",
       "<caption>A data.frame: 6 × 1</caption>\n",
       "<thead>\n",
       "\t<tr><th></th><th scope=col>person_id</th></tr>\n",
       "\t<tr><th></th><th scope=col>&lt;chr&gt;</th></tr>\n",
       "</thead>\n",
       "<tbody>\n",
       "\t<tr><th scope=row>1</th><td>140001000000344</td></tr>\n",
       "\t<tr><th scope=row>2</th><td>167181000000324</td></tr>\n",
       "\t<tr><th scope=row>3</th><td>135180000000868</td></tr>\n",
       "\t<tr><th scope=row>4</th><td>141180000000479</td></tr>\n",
       "\t<tr><th scope=row>5</th><td>29181000000654 </td></tr>\n",
       "\t<tr><th scope=row>6</th><td>176010000001172</td></tr>\n",
       "</tbody>\n",
       "</table>\n"
      ],
      "text/latex": [
       "A data.frame: 6 × 1\n",
       "\\begin{tabular}{r|l}\n",
       "  & person\\_id\\\\\n",
       "  & <chr>\\\\\n",
       "\\hline\n",
       "\t1 & 140001000000344\\\\\n",
       "\t2 & 167181000000324\\\\\n",
       "\t3 & 135180000000868\\\\\n",
       "\t4 & 141180000000479\\\\\n",
       "\t5 & 29181000000654 \\\\\n",
       "\t6 & 176010000001172\\\\\n",
       "\\end{tabular}\n"
      ],
      "text/markdown": [
       "\n",
       "A data.frame: 6 × 1\n",
       "\n",
       "| <!--/--> | person_id &lt;chr&gt; |\n",
       "|---|---|\n",
       "| 1 | 140001000000344 |\n",
       "| 2 | 167181000000324 |\n",
       "| 3 | 135180000000868 |\n",
       "| 4 | 141180000000479 |\n",
       "| 5 | 29181000000654  |\n",
       "| 6 | 176010000001172 |\n",
       "\n"
      ],
      "text/plain": [
       "  person_id      \n",
       "1 140001000000344\n",
       "2 167181000000324\n",
       "3 135180000000868\n",
       "4 141180000000479\n",
       "5 29181000000654 \n",
       "6 176010000001172"
      ]
     },
     "metadata": {},
     "output_type": "display_data"
    }
   ],
   "source": [
    "res <- dbSendQuery(con, \"SELECT DISTINCT person_id FROM expunge\")\n",
    "all_ids <- dbFetch(res)\n",
    "dbClearResult(res)\n",
    "head(all_ids)"
   ]
  },
  {
   "cell_type": "code",
   "execution_count": 31,
   "id": "d34609e5-4404-4409-a837-78e4e47b97a4",
   "metadata": {},
   "outputs": [
    {
     "data": {
      "text/html": [
       "3082954"
      ],
      "text/latex": [
       "3082954"
      ],
      "text/markdown": [
       "3082954"
      ],
      "text/plain": [
       "[1] 3082954"
      ]
     },
     "metadata": {},
     "output_type": "display_data"
    }
   ],
   "source": [
    "nrow(all_ids)"
   ]
  },
  {
   "cell_type": "code",
   "execution_count": 48,
   "id": "a5ddded1-0088-4fc4-8e0c-ae87ce31ebc7",
   "metadata": {},
   "outputs": [],
   "source": [
    "set.seed(12345)\n",
    "ids_1k <- sample_n(all_ids, 1000)\n",
    "ids_10k <- sample_n(all_ids, 10000)\n",
    "ids_100k <- sample_n(all_ids, 100000)"
   ]
  },
  {
   "cell_type": "code",
   "execution_count": 52,
   "id": "513fc2f6-8b4e-47dc-a30c-67c44d543208",
   "metadata": {},
   "outputs": [
    {
     "name": "stderr",
     "output_type": "stream",
     "text": [
      "Warning message in result_create(conn@ptr, statement, immediate):\n",
      "“Closing open result set, cancelling previous query”\n"
     ]
    }
   ],
   "source": [
    "dbWriteTable(con, \"ids_1k_sample\", ids_1k)\n",
    "dbWriteTable(con, \"ids_10k_sample\", ids_10k)\n",
    "dbWriteTable(con, \"ids_100k_sample\", ids_100k)"
   ]
  },
  {
   "cell_type": "code",
   "execution_count": 61,
   "id": "02e96e1e-ae44-44e0-a8e9-3f05737bb71f",
   "metadata": {},
   "outputs": [
    {
     "data": {
      "text/html": [
       "293598"
      ],
      "text/latex": [
       "293598"
      ],
      "text/markdown": [
       "293598"
      ],
      "text/plain": [
       "[1] 293598"
      ]
     },
     "metadata": {},
     "output_type": "display_data"
    }
   ],
   "source": [
    "dbExecute(con, \"\n",
    "CREATE TABLE data_1k_sample AS\n",
    "SELECT * FROM ids_1k_sample\n",
    "JOIN expunge USING (person_id)\n",
    "\")"
   ]
  },
  {
   "cell_type": "code",
   "execution_count": 61,
   "id": "c6e04cd8-308b-4d18-bc7b-8cc87abddccc",
   "metadata": {},
   "outputs": [
    {
     "data": {
      "text/html": [
       "293598"
      ],
      "text/latex": [
       "293598"
      ],
      "text/markdown": [
       "293598"
      ],
      "text/plain": [
       "[1] 293598"
      ]
     },
     "metadata": {},
     "output_type": "display_data"
    }
   ],
   "source": [
    "dbExecute(con, \"\n",
    "CREATE TABLE data_10k_sample AS\n",
    "SELECT * FROM ids_10k_sample\n",
    "JOIN expunge USING (person_id)\n",
    "\")"
   ]
  },
  {
   "cell_type": "code",
   "execution_count": 61,
   "id": "064f1659-aa13-4f8a-8afc-2972f6660422",
   "metadata": {},
   "outputs": [
    {
     "data": {
      "text/html": [
       "293598"
      ],
      "text/latex": [
       "293598"
      ],
      "text/markdown": [
       "293598"
      ],
      "text/plain": [
       "[1] 293598"
      ]
     },
     "metadata": {},
     "output_type": "display_data"
    }
   ],
   "source": [
    "dbExecute(con, \"\n",
    "CREATE TABLE data_100k_sample AS\n",
    "SELECT * FROM ids_100k_sample\n",
    "JOIN expunge USING (person_id)\n",
    "\")"
   ]
  },
  {
   "cell_type": "code",
   "execution_count": 121,
   "id": "d67cfb84-5bc9-4e15-8cf4-a19d97fcb7c8",
   "metadata": {},
   "outputs": [
    {
     "name": "stdout",
     "output_type": "stream",
     "text": [
      "[1] 2811\n"
     ]
    },
    {
     "data": {
      "text/html": [
       "<style>\n",
       ".list-inline {list-style: none; margin:0; padding: 0}\n",
       ".list-inline>li {display: inline-block}\n",
       ".list-inline>li:not(:last-child)::after {content: \"\\00b7\"; padding: 0 .5ex}\n",
       "</style>\n",
       "<ol class=list-inline><li>'199031000000439'</li><li>'15100000000316'</li><li>'15100000000316'</li><li>'10210000000095'</li><li>'51220000000305'</li><li>'51220000000305'</li></ol>\n"
      ],
      "text/latex": [
       "\\begin{enumerate*}\n",
       "\\item '199031000000439'\n",
       "\\item '15100000000316'\n",
       "\\item '15100000000316'\n",
       "\\item '10210000000095'\n",
       "\\item '51220000000305'\n",
       "\\item '51220000000305'\n",
       "\\end{enumerate*}\n"
      ],
      "text/markdown": [
       "1. '199031000000439'\n",
       "2. '15100000000316'\n",
       "3. '15100000000316'\n",
       "4. '10210000000095'\n",
       "5. '51220000000305'\n",
       "6. '51220000000305'\n",
       "\n",
       "\n"
      ],
      "text/plain": [
       "[1] \"199031000000439\" \"15100000000316\"  \"15100000000316\"  \"10210000000095\" \n",
       "[5] \"51220000000305\"  \"51220000000305\" "
      ]
     },
     "metadata": {},
     "output_type": "display_data"
    }
   ],
   "source": [
    "res <- dbSendQuery(con, \"SELECT * FROM data_1k_sample\")\n",
    "df_1k <- dbFetch(res)\n",
    "dbClearResult(res)\n",
    "print(nrow(df_1k))\n",
    "head(df_1k$person_id)"
   ]
  },
  {
   "cell_type": "code",
   "execution_count": null,
   "id": "1b78909b-01b7-4e19-a967-80c5468b30be",
   "metadata": {},
   "outputs": [],
   "source": []
  },
  {
   "cell_type": "code",
   "execution_count": null,
   "id": "b8fc88ae-201c-4e68-a08d-36c5e09320c5",
   "metadata": {},
   "outputs": [],
   "source": []
  },
  {
   "cell_type": "code",
   "execution_count": 114,
   "id": "a0f48e5e-81c6-4c8a-9df5-b885bd31ded2",
   "metadata": {},
   "outputs": [],
   "source": [
    "read_person_file_db <- function(.id, .table, .con) {\n",
    "    res <- dbSendQuery(.con, glue::glue('\n",
    "      SELECT \n",
    "      \"person_id\",\n",
    "      \"HearingDate\",\n",
    "      \"CodeSection\",\n",
    "      \"ChargeType\",\n",
    "      \"Class\",\n",
    "      \"DispositionCode\",\n",
    "      \"Plea\",\n",
    "      \"Race\",\n",
    "      \"Sex\",\n",
    "      \"fips\"\n",
    "      FROM {.table} a WHERE person_id = \\'{.id}\\''))\n",
    "    df <- dbFetch(res)\n",
    "    dbClearResult(res)\n",
    "    return(df)\n",
    "}"
   ]
  },
  {
   "cell_type": "code",
   "execution_count": 128,
   "id": "28b5faa9-6644-46ed-8300-dcfd1176c1eb",
   "metadata": {},
   "outputs": [
    {
     "data": {
      "text/html": [
       "<table class=\"dataframe\">\n",
       "<caption>A data.frame: 3 × 10</caption>\n",
       "<thead>\n",
       "\t<tr><th scope=col>person_id</th><th scope=col>HearingDate</th><th scope=col>CodeSection</th><th scope=col>ChargeType</th><th scope=col>Class</th><th scope=col>DispositionCode</th><th scope=col>Plea</th><th scope=col>Race</th><th scope=col>Sex</th><th scope=col>fips</th></tr>\n",
       "\t<tr><th scope=col>&lt;chr&gt;</th><th scope=col>&lt;date&gt;</th><th scope=col>&lt;chr&gt;</th><th scope=col>&lt;chr&gt;</th><th scope=col>&lt;chr&gt;</th><th scope=col>&lt;chr&gt;</th><th scope=col>&lt;chr&gt;</th><th scope=col>&lt;chr&gt;</th><th scope=col>&lt;chr&gt;</th><th scope=col>&lt;int&gt;</th></tr>\n",
       "</thead>\n",
       "<tbody>\n",
       "\t<tr><td>51220000000305</td><td>2010-05-03</td><td>46.2-613(2)</td><td>Misdemeanor</td><td>1</td><td>Guilty</td><td>Guilty</td><td>White Caucasian(Non-Hispanic)</td><td>Male</td><td>840</td></tr>\n",
       "\t<tr><td>51220000000305</td><td>2010-05-03</td><td>A.46.2-707 </td><td>Misdemeanor</td><td>3</td><td>Guilty</td><td>Guilty</td><td>White Caucasian(Non-Hispanic)</td><td>Male</td><td>840</td></tr>\n",
       "\t<tr><td>51220000000305</td><td>2010-05-03</td><td>46.2-300   </td><td>Misdemeanor</td><td>2</td><td>Guilty</td><td>Guilty</td><td>White Caucasian(Non-Hispanic)</td><td>Male</td><td>840</td></tr>\n",
       "</tbody>\n",
       "</table>\n"
      ],
      "text/latex": [
       "A data.frame: 3 × 10\n",
       "\\begin{tabular}{llllllllll}\n",
       " person\\_id & HearingDate & CodeSection & ChargeType & Class & DispositionCode & Plea & Race & Sex & fips\\\\\n",
       " <chr> & <date> & <chr> & <chr> & <chr> & <chr> & <chr> & <chr> & <chr> & <int>\\\\\n",
       "\\hline\n",
       "\t 51220000000305 & 2010-05-03 & 46.2-613(2) & Misdemeanor & 1 & Guilty & Guilty & White Caucasian(Non-Hispanic) & Male & 840\\\\\n",
       "\t 51220000000305 & 2010-05-03 & A.46.2-707  & Misdemeanor & 3 & Guilty & Guilty & White Caucasian(Non-Hispanic) & Male & 840\\\\\n",
       "\t 51220000000305 & 2010-05-03 & 46.2-300    & Misdemeanor & 2 & Guilty & Guilty & White Caucasian(Non-Hispanic) & Male & 840\\\\\n",
       "\\end{tabular}\n"
      ],
      "text/markdown": [
       "\n",
       "A data.frame: 3 × 10\n",
       "\n",
       "| person_id &lt;chr&gt; | HearingDate &lt;date&gt; | CodeSection &lt;chr&gt; | ChargeType &lt;chr&gt; | Class &lt;chr&gt; | DispositionCode &lt;chr&gt; | Plea &lt;chr&gt; | Race &lt;chr&gt; | Sex &lt;chr&gt; | fips &lt;int&gt; |\n",
       "|---|---|---|---|---|---|---|---|---|---|\n",
       "| 51220000000305 | 2010-05-03 | 46.2-613(2) | Misdemeanor | 1 | Guilty | Guilty | White Caucasian(Non-Hispanic) | Male | 840 |\n",
       "| 51220000000305 | 2010-05-03 | A.46.2-707  | Misdemeanor | 3 | Guilty | Guilty | White Caucasian(Non-Hispanic) | Male | 840 |\n",
       "| 51220000000305 | 2010-05-03 | 46.2-300    | Misdemeanor | 2 | Guilty | Guilty | White Caucasian(Non-Hispanic) | Male | 840 |\n",
       "\n"
      ],
      "text/plain": [
       "  person_id      HearingDate CodeSection ChargeType  Class DispositionCode\n",
       "1 51220000000305 2010-05-03  46.2-613(2) Misdemeanor 1     Guilty         \n",
       "2 51220000000305 2010-05-03  A.46.2-707  Misdemeanor 3     Guilty         \n",
       "3 51220000000305 2010-05-03  46.2-300    Misdemeanor 2     Guilty         \n",
       "  Plea   Race                          Sex  fips\n",
       "1 Guilty White Caucasian(Non-Hispanic) Male 840 \n",
       "2 Guilty White Caucasian(Non-Hispanic) Male 840 \n",
       "3 Guilty White Caucasian(Non-Hispanic) Male 840 "
      ]
     },
     "metadata": {},
     "output_type": "display_data"
    }
   ],
   "source": [
    "id <- \"51220000000305\"\n",
    "data <- read_person_file_db(id, \"data_1k_sample\", con)\n",
    "data"
   ]
  },
  {
   "cell_type": "code",
   "execution_count": null,
   "id": "fd6f1027-b8d4-493e-a5c6-212293bf686a",
   "metadata": {},
   "outputs": [],
   "source": []
  },
  {
   "cell_type": "code",
   "execution_count": 129,
   "id": "8158103e-3db1-4b71-a65a-9765dbd5ff1b",
   "metadata": {},
   "outputs": [],
   "source": [
    "source(here(\"code\", \"expunge_classifier2.R\"))"
   ]
  },
  {
   "cell_type": "code",
   "execution_count": 131,
   "id": "f86cff0b-b7b5-4ab8-979d-0d5038c498b6",
   "metadata": {},
   "outputs": [
    {
     "name": "stderr",
     "output_type": "stream",
     "text": [
      "Warning message:\n",
      "“Unknown levels in `f`: Nolle Prosequi, No Indictment Presented, Not True Bill, Dismissed/Other, Not Guilty, Not Guilty/Acquitted, Guilty In Absentia”\n"
     ]
    },
    {
     "data": {
      "text/html": [
       "<table class=\"dataframe\">\n",
       "<caption>A tibble: 3 × 28</caption>\n",
       "<thead>\n",
       "\t<tr><th scope=col>person_id</th><th scope=col>HearingDate</th><th scope=col>CodeSection</th><th scope=col>codesection</th><th scope=col>ChargeType</th><th scope=col>chargetype</th><th scope=col>Class</th><th scope=col>DispositionCode</th><th scope=col>disposition</th><th scope=col>Plea</th><th scope=col>⋯</th><th scope=col>within7</th><th scope=col>within10</th><th scope=col>class1_2</th><th scope=col>class3_4</th><th scope=col>expungable</th><th scope=col>old_expungable</th><th scope=col>expungable_no_lifetimelimit</th><th scope=col>reason</th><th scope=col>sameday</th><th scope=col>lifetime</th></tr>\n",
       "\t<tr><th scope=col>&lt;chr&gt;</th><th scope=col>&lt;date&gt;</th><th scope=col>&lt;chr&gt;</th><th scope=col>&lt;fct&gt;</th><th scope=col>&lt;chr&gt;</th><th scope=col>&lt;fct&gt;</th><th scope=col>&lt;chr&gt;</th><th scope=col>&lt;chr&gt;</th><th scope=col>&lt;fct&gt;</th><th scope=col>&lt;chr&gt;</th><th scope=col>⋯</th><th scope=col>&lt;lgl&gt;</th><th scope=col>&lt;lgl&gt;</th><th scope=col>&lt;lgl&gt;</th><th scope=col>&lt;lgl&gt;</th><th scope=col>&lt;fct&gt;</th><th scope=col>&lt;lgl&gt;</th><th scope=col>&lt;fct&gt;</th><th scope=col>&lt;chr&gt;</th><th scope=col>&lt;lgl&gt;</th><th scope=col>&lt;lgl&gt;</th></tr>\n",
       "</thead>\n",
       "<tbody>\n",
       "\t<tr><td>51220000000305</td><td>2010-05-03</td><td>46.2-613(2)</td><td>covered elsewhere</td><td>Misdemeanor</td><td>Misdemeanor</td><td>1</td><td>Guilty</td><td>Conviction</td><td>Guilty</td><td>⋯</td><td>FALSE</td><td>FALSE</td><td>FALSE</td><td>FALSE</td><td>Automatic   </td><td>FALSE</td><td>Automatic</td><td>Conviction of misdemeanor charges listed in 19.2-392.6 B with no convictions within 7 years from disposition date                                                                                                                  </td><td>FALSE</td><td>FALSE</td></tr>\n",
       "\t<tr><td>51220000000305</td><td>2010-05-03</td><td>A.46.2-707 </td><td>covered elsewhere</td><td>Misdemeanor</td><td>Misdemeanor</td><td>3</td><td>Guilty</td><td>Conviction</td><td>Guilty</td><td>⋯</td><td>FALSE</td><td>FALSE</td><td>FALSE</td><td>FALSE</td><td>Automatic   </td><td>FALSE</td><td>Automatic</td><td>Conviction of misdemeanor charges listed in 19.2-392.6 B with no convictions within 7 years from disposition date                                                                                                                  </td><td>FALSE</td><td>FALSE</td></tr>\n",
       "\t<tr><td>51220000000305</td><td>2010-05-03</td><td>46.2-300   </td><td>covered elsewhere</td><td>Misdemeanor</td><td>Misdemeanor</td><td>2</td><td>Guilty</td><td>Conviction</td><td>Guilty</td><td>⋯</td><td>FALSE</td><td>FALSE</td><td>FALSE</td><td>FALSE</td><td>Not eligible</td><td>FALSE</td><td>Automatic</td><td>Conviction of misdemeanor charges listed in 19.2-392.6 B with no convictions within 7 years from disposition date; HOWEVER, the outcome is changed to not eligible because the lifetime limit of two expungements has been exceeded</td><td>FALSE</td><td> TRUE</td></tr>\n",
       "</tbody>\n",
       "</table>\n"
      ],
      "text/latex": [
       "A tibble: 3 × 28\n",
       "\\begin{tabular}{lllllllllllllllllllll}\n",
       " person\\_id & HearingDate & CodeSection & codesection & ChargeType & chargetype & Class & DispositionCode & disposition & Plea & ⋯ & within7 & within10 & class1\\_2 & class3\\_4 & expungable & old\\_expungable & expungable\\_no\\_lifetimelimit & reason & sameday & lifetime\\\\\n",
       " <chr> & <date> & <chr> & <fct> & <chr> & <fct> & <chr> & <chr> & <fct> & <chr> & ⋯ & <lgl> & <lgl> & <lgl> & <lgl> & <fct> & <lgl> & <fct> & <chr> & <lgl> & <lgl>\\\\\n",
       "\\hline\n",
       "\t 51220000000305 & 2010-05-03 & 46.2-613(2) & covered elsewhere & Misdemeanor & Misdemeanor & 1 & Guilty & Conviction & Guilty & ⋯ & FALSE & FALSE & FALSE & FALSE & Automatic    & FALSE & Automatic & Conviction of misdemeanor charges listed in 19.2-392.6 B with no convictions within 7 years from disposition date                                                                                                                   & FALSE & FALSE\\\\\n",
       "\t 51220000000305 & 2010-05-03 & A.46.2-707  & covered elsewhere & Misdemeanor & Misdemeanor & 3 & Guilty & Conviction & Guilty & ⋯ & FALSE & FALSE & FALSE & FALSE & Automatic    & FALSE & Automatic & Conviction of misdemeanor charges listed in 19.2-392.6 B with no convictions within 7 years from disposition date                                                                                                                   & FALSE & FALSE\\\\\n",
       "\t 51220000000305 & 2010-05-03 & 46.2-300    & covered elsewhere & Misdemeanor & Misdemeanor & 2 & Guilty & Conviction & Guilty & ⋯ & FALSE & FALSE & FALSE & FALSE & Not eligible & FALSE & Automatic & Conviction of misdemeanor charges listed in 19.2-392.6 B with no convictions within 7 years from disposition date; HOWEVER, the outcome is changed to not eligible because the lifetime limit of two expungements has been exceeded & FALSE &  TRUE\\\\\n",
       "\\end{tabular}\n"
      ],
      "text/markdown": [
       "\n",
       "A tibble: 3 × 28\n",
       "\n",
       "| person_id &lt;chr&gt; | HearingDate &lt;date&gt; | CodeSection &lt;chr&gt; | codesection &lt;fct&gt; | ChargeType &lt;chr&gt; | chargetype &lt;fct&gt; | Class &lt;chr&gt; | DispositionCode &lt;chr&gt; | disposition &lt;fct&gt; | Plea &lt;chr&gt; | ⋯ ⋯ | within7 &lt;lgl&gt; | within10 &lt;lgl&gt; | class1_2 &lt;lgl&gt; | class3_4 &lt;lgl&gt; | expungable &lt;fct&gt; | old_expungable &lt;lgl&gt; | expungable_no_lifetimelimit &lt;fct&gt; | reason &lt;chr&gt; | sameday &lt;lgl&gt; | lifetime &lt;lgl&gt; |\n",
       "|---|---|---|---|---|---|---|---|---|---|---|---|---|---|---|---|---|---|---|---|---|\n",
       "| 51220000000305 | 2010-05-03 | 46.2-613(2) | covered elsewhere | Misdemeanor | Misdemeanor | 1 | Guilty | Conviction | Guilty | ⋯ | FALSE | FALSE | FALSE | FALSE | Automatic    | FALSE | Automatic | Conviction of misdemeanor charges listed in 19.2-392.6 B with no convictions within 7 years from disposition date                                                                                                                   | FALSE | FALSE |\n",
       "| 51220000000305 | 2010-05-03 | A.46.2-707  | covered elsewhere | Misdemeanor | Misdemeanor | 3 | Guilty | Conviction | Guilty | ⋯ | FALSE | FALSE | FALSE | FALSE | Automatic    | FALSE | Automatic | Conviction of misdemeanor charges listed in 19.2-392.6 B with no convictions within 7 years from disposition date                                                                                                                   | FALSE | FALSE |\n",
       "| 51220000000305 | 2010-05-03 | 46.2-300    | covered elsewhere | Misdemeanor | Misdemeanor | 2 | Guilty | Conviction | Guilty | ⋯ | FALSE | FALSE | FALSE | FALSE | Not eligible | FALSE | Automatic | Conviction of misdemeanor charges listed in 19.2-392.6 B with no convictions within 7 years from disposition date; HOWEVER, the outcome is changed to not eligible because the lifetime limit of two expungements has been exceeded | FALSE |  TRUE |\n",
       "\n"
      ],
      "text/plain": [
       "  person_id      HearingDate CodeSection codesection       ChargeType \n",
       "1 51220000000305 2010-05-03  46.2-613(2) covered elsewhere Misdemeanor\n",
       "2 51220000000305 2010-05-03  A.46.2-707  covered elsewhere Misdemeanor\n",
       "3 51220000000305 2010-05-03  46.2-300    covered elsewhere Misdemeanor\n",
       "  chargetype  Class DispositionCode disposition Plea   ⋯ within7 within10\n",
       "1 Misdemeanor 1     Guilty          Conviction  Guilty ⋯ FALSE   FALSE   \n",
       "2 Misdemeanor 3     Guilty          Conviction  Guilty ⋯ FALSE   FALSE   \n",
       "3 Misdemeanor 2     Guilty          Conviction  Guilty ⋯ FALSE   FALSE   \n",
       "  class1_2 class3_4 expungable   old_expungable expungable_no_lifetimelimit\n",
       "1 FALSE    FALSE    Automatic    FALSE          Automatic                  \n",
       "2 FALSE    FALSE    Automatic    FALSE          Automatic                  \n",
       "3 FALSE    FALSE    Not eligible FALSE          Automatic                  \n",
       "  reason                                                                                                                                                                                                                             \n",
       "1 Conviction of misdemeanor charges listed in 19.2-392.6 B with no convictions within 7 years from disposition date                                                                                                                  \n",
       "2 Conviction of misdemeanor charges listed in 19.2-392.6 B with no convictions within 7 years from disposition date                                                                                                                  \n",
       "3 Conviction of misdemeanor charges listed in 19.2-392.6 B with no convictions within 7 years from disposition date; HOWEVER, the outcome is changed to not eligible because the lifetime limit of two expungements has been exceeded\n",
       "  sameday lifetime\n",
       "1 FALSE   FALSE   \n",
       "2 FALSE   FALSE   \n",
       "3 FALSE    TRUE   "
      ]
     },
     "metadata": {},
     "output_type": "display_data"
    }
   ],
   "source": [
    "read_person_file_db(id, \"data_1k_sample\", con) %>%\n",
    "  classify_ex2()"
   ]
  },
  {
   "cell_type": "code",
   "execution_count": null,
   "id": "6b1382a4-3b63-455b-bf2f-b090604ba00f",
   "metadata": {},
   "outputs": [],
   "source": []
  },
  {
   "cell_type": "code",
   "execution_count": null,
   "id": "9c3d2333-4eec-4dc7-9359-34ce36ea7587",
   "metadata": {},
   "outputs": [],
   "source": []
  },
  {
   "cell_type": "code",
   "execution_count": 122,
   "id": "15ee5a54-2ff4-4881-ab74-f0d5012b0145",
   "metadata": {},
   "outputs": [],
   "source": [
    "#setwd(\"~/Box Sync/Code for Cville\")\n",
    "\n",
    "library(randomForest)\n",
    "#library(tidyverse)\n",
    "library(dplyr)\n",
    "library(readr)\n",
    "library(tidyr)\n",
    "library(here)\n",
    "library(forcats)\n",
    "#source(here(\"code\", \"helper-functions.R\"))\n",
    "NODE_ENCODE <- readr::read_csv(here(\"data\", \"reasons_encode.csv\"), col_types = \"ic\")\n",
    "\n",
    "########## Load data and trained classifier ##########\n",
    "\n",
    "#classify_ex <- function(id){\n",
    "\n",
    "  load(here(\"data\", \"expunge_coder.Rdata\"))\n",
    "\n"
   ]
  },
  {
   "cell_type": "code",
   "execution_count": 123,
   "id": "1c437886-2fd1-40d2-917d-90002e2f1b86",
   "metadata": {},
   "outputs": [
    {
     "name": "stderr",
     "output_type": "stream",
     "text": [
      "Warning message in result_create(conn@ptr, statement, immediate):\n",
      "“Closing open result set, cancelling previous query”\n",
      "Warning message:\n",
      "“Unknown levels in `f`: Nolle Prosequi, No Indictment Presented, Not True Bill, Dismissed/Other, Not Guilty, Not Guilty/Acquitted, Guilty In Absentia”\n"
     ]
    },
    {
     "data": {
      "text/html": [
       "<table class=\"dataframe\">\n",
       "<caption>A data.frame: 3 × 22</caption>\n",
       "<thead>\n",
       "\t<tr><th scope=col>person_id</th><th scope=col>HearingDate</th><th scope=col>CodeSection</th><th scope=col>ChargeType</th><th scope=col>Class</th><th scope=col>DispositionCode</th><th scope=col>Plea</th><th scope=col>Race</th><th scope=col>Sex</th><th scope=col>fips</th><th scope=col>⋯</th><th scope=col>codesection</th><th scope=col>convictions</th><th scope=col>arrests</th><th scope=col>felony10</th><th scope=col>sevenyear</th><th scope=col>tenyear</th><th scope=col>within7</th><th scope=col>within10</th><th scope=col>class1_2</th><th scope=col>class3_4</th></tr>\n",
       "\t<tr><th scope=col>&lt;chr&gt;</th><th scope=col>&lt;date&gt;</th><th scope=col>&lt;chr&gt;</th><th scope=col>&lt;chr&gt;</th><th scope=col>&lt;chr&gt;</th><th scope=col>&lt;chr&gt;</th><th scope=col>&lt;chr&gt;</th><th scope=col>&lt;chr&gt;</th><th scope=col>&lt;chr&gt;</th><th scope=col>&lt;int&gt;</th><th scope=col>⋯</th><th scope=col>&lt;fct&gt;</th><th scope=col>&lt;lgl&gt;</th><th scope=col>&lt;lgl&gt;</th><th scope=col>&lt;lgl&gt;</th><th scope=col>&lt;lgl&gt;</th><th scope=col>&lt;lgl&gt;</th><th scope=col>&lt;lgl&gt;</th><th scope=col>&lt;lgl&gt;</th><th scope=col>&lt;lgl&gt;</th><th scope=col>&lt;lgl&gt;</th></tr>\n",
       "</thead>\n",
       "<tbody>\n",
       "\t<tr><td>51220000000305</td><td>2010-05-03</td><td>46.2-613(2)</td><td>Misdemeanor</td><td>1</td><td>Guilty</td><td>Guilty</td><td>White Caucasian(Non-Hispanic)</td><td>Male</td><td>840</td><td>⋯</td><td>covered elsewhere</td><td>TRUE</td><td>FALSE</td><td>FALSE</td><td>FALSE</td><td>FALSE</td><td>FALSE</td><td>FALSE</td><td>FALSE</td><td>FALSE</td></tr>\n",
       "\t<tr><td>51220000000305</td><td>2010-05-03</td><td>A.46.2-707 </td><td>Misdemeanor</td><td>3</td><td>Guilty</td><td>Guilty</td><td>White Caucasian(Non-Hispanic)</td><td>Male</td><td>840</td><td>⋯</td><td>covered elsewhere</td><td>TRUE</td><td>FALSE</td><td>FALSE</td><td>FALSE</td><td>FALSE</td><td>FALSE</td><td>FALSE</td><td>FALSE</td><td>FALSE</td></tr>\n",
       "\t<tr><td>51220000000305</td><td>2010-05-03</td><td>46.2-300   </td><td>Misdemeanor</td><td>2</td><td>Guilty</td><td>Guilty</td><td>White Caucasian(Non-Hispanic)</td><td>Male</td><td>840</td><td>⋯</td><td>covered elsewhere</td><td>TRUE</td><td>FALSE</td><td>FALSE</td><td>FALSE</td><td>FALSE</td><td>FALSE</td><td>FALSE</td><td>FALSE</td><td>FALSE</td></tr>\n",
       "</tbody>\n",
       "</table>\n"
      ],
      "text/latex": [
       "A data.frame: 3 × 22\n",
       "\\begin{tabular}{lllllllllllllllllllll}\n",
       " person\\_id & HearingDate & CodeSection & ChargeType & Class & DispositionCode & Plea & Race & Sex & fips & ⋯ & codesection & convictions & arrests & felony10 & sevenyear & tenyear & within7 & within10 & class1\\_2 & class3\\_4\\\\\n",
       " <chr> & <date> & <chr> & <chr> & <chr> & <chr> & <chr> & <chr> & <chr> & <int> & ⋯ & <fct> & <lgl> & <lgl> & <lgl> & <lgl> & <lgl> & <lgl> & <lgl> & <lgl> & <lgl>\\\\\n",
       "\\hline\n",
       "\t 51220000000305 & 2010-05-03 & 46.2-613(2) & Misdemeanor & 1 & Guilty & Guilty & White Caucasian(Non-Hispanic) & Male & 840 & ⋯ & covered elsewhere & TRUE & FALSE & FALSE & FALSE & FALSE & FALSE & FALSE & FALSE & FALSE\\\\\n",
       "\t 51220000000305 & 2010-05-03 & A.46.2-707  & Misdemeanor & 3 & Guilty & Guilty & White Caucasian(Non-Hispanic) & Male & 840 & ⋯ & covered elsewhere & TRUE & FALSE & FALSE & FALSE & FALSE & FALSE & FALSE & FALSE & FALSE\\\\\n",
       "\t 51220000000305 & 2010-05-03 & 46.2-300    & Misdemeanor & 2 & Guilty & Guilty & White Caucasian(Non-Hispanic) & Male & 840 & ⋯ & covered elsewhere & TRUE & FALSE & FALSE & FALSE & FALSE & FALSE & FALSE & FALSE & FALSE\\\\\n",
       "\\end{tabular}\n"
      ],
      "text/markdown": [
       "\n",
       "A data.frame: 3 × 22\n",
       "\n",
       "| person_id &lt;chr&gt; | HearingDate &lt;date&gt; | CodeSection &lt;chr&gt; | ChargeType &lt;chr&gt; | Class &lt;chr&gt; | DispositionCode &lt;chr&gt; | Plea &lt;chr&gt; | Race &lt;chr&gt; | Sex &lt;chr&gt; | fips &lt;int&gt; | ⋯ ⋯ | codesection &lt;fct&gt; | convictions &lt;lgl&gt; | arrests &lt;lgl&gt; | felony10 &lt;lgl&gt; | sevenyear &lt;lgl&gt; | tenyear &lt;lgl&gt; | within7 &lt;lgl&gt; | within10 &lt;lgl&gt; | class1_2 &lt;lgl&gt; | class3_4 &lt;lgl&gt; |\n",
       "|---|---|---|---|---|---|---|---|---|---|---|---|---|---|---|---|---|---|---|---|---|\n",
       "| 51220000000305 | 2010-05-03 | 46.2-613(2) | Misdemeanor | 1 | Guilty | Guilty | White Caucasian(Non-Hispanic) | Male | 840 | ⋯ | covered elsewhere | TRUE | FALSE | FALSE | FALSE | FALSE | FALSE | FALSE | FALSE | FALSE |\n",
       "| 51220000000305 | 2010-05-03 | A.46.2-707  | Misdemeanor | 3 | Guilty | Guilty | White Caucasian(Non-Hispanic) | Male | 840 | ⋯ | covered elsewhere | TRUE | FALSE | FALSE | FALSE | FALSE | FALSE | FALSE | FALSE | FALSE |\n",
       "| 51220000000305 | 2010-05-03 | 46.2-300    | Misdemeanor | 2 | Guilty | Guilty | White Caucasian(Non-Hispanic) | Male | 840 | ⋯ | covered elsewhere | TRUE | FALSE | FALSE | FALSE | FALSE | FALSE | FALSE | FALSE | FALSE |\n",
       "\n"
      ],
      "text/plain": [
       "  person_id      HearingDate CodeSection ChargeType  Class DispositionCode\n",
       "1 51220000000305 2010-05-03  46.2-613(2) Misdemeanor 1     Guilty         \n",
       "2 51220000000305 2010-05-03  A.46.2-707  Misdemeanor 3     Guilty         \n",
       "3 51220000000305 2010-05-03  46.2-300    Misdemeanor 2     Guilty         \n",
       "  Plea   Race                          Sex  fips ⋯ codesection      \n",
       "1 Guilty White Caucasian(Non-Hispanic) Male 840  ⋯ covered elsewhere\n",
       "2 Guilty White Caucasian(Non-Hispanic) Male 840  ⋯ covered elsewhere\n",
       "3 Guilty White Caucasian(Non-Hispanic) Male 840  ⋯ covered elsewhere\n",
       "  convictions arrests felony10 sevenyear tenyear within7 within10 class1_2\n",
       "1 TRUE        FALSE   FALSE    FALSE     FALSE   FALSE   FALSE    FALSE   \n",
       "2 TRUE        FALSE   FALSE    FALSE     FALSE   FALSE   FALSE    FALSE   \n",
       "3 TRUE        FALSE   FALSE    FALSE     FALSE   FALSE   FALSE    FALSE   \n",
       "  class3_4\n",
       "1 FALSE   \n",
       "2 FALSE   \n",
       "3 FALSE   "
      ]
     },
     "metadata": {},
     "output_type": "display_data"
    }
   ],
   "source": [
    "id <- \"51220000000305\"\n",
    "  \n",
    "  #data <- read_person_file(id, '') %>%\n",
    "data <- read_person_file_db(id, \"data_1k_sample\", con) %>%\n",
    "    replace_na(list(CodeSection = \"MISSING\"))\n",
    "\n",
    "  orig_cols <- colnames(data)\n",
    "\n",
    "\n",
    "  \n",
    "  ########## Data cleaning ##########\n",
    "  \n",
    "  data <- data %>% \n",
    "    filter(!is.na(DispositionCode)) %>%\n",
    "    filter(ChargeType %in% c(\"Misdemeanor\", \"Felony\")) %>%\n",
    "    filter(\n",
    "      DispositionCode %in% c(\n",
    "        \"Guilty\",\n",
    "        \"Guilty In Absentia\",\n",
    "        \"Dismissed\",\n",
    "        \"Nolle Prosequi\",\n",
    "        \"Not Guilty\",\n",
    "        \"Not Guilty/Acquitted\",\n",
    "        \"No Indictment Presented\",\n",
    "        \"Not True Bill\",\n",
    "        # \"Resolved\", #??\n",
    "        \"Dismissed/Other\"\n",
    "      )\n",
    "    )\n",
    "\n",
    "    if(nrow(data) == 0) return(data)\n",
    "  \n",
    "  ########## Generate objects to assist in feature construction ########\n",
    "  \n",
    "  A <- c(\"4.1-305\", \"18.2-250.1\")\n",
    "  B <- c(\"4.1-305\",\"18.2-96\",\"18.2-103\",\"18.2-119\",\"18.2-120\",\"18.2-134\",\"18.2-250.1\",\"18.2-415\")\n",
    "  Bmis <- c(\"18.2-248.1\")\n",
    "  Twelve <- c(\"18.2-36.1\",\"18.2-36.2\",\"18.2-51.4\",\"18.2-51.5\",\"18.2-57.2\",\"18.2-266\",\"46.2-341.24\")\n",
    "  \n",
    "  #Generate time-distance matrices\n",
    "  dates <- as.numeric(as.Date(data$HearingDate))\n",
    "  d <- outer(dates, dates, \"-\") # difference in days between all dates\n",
    "  \n",
    "  d_fel <- d # isolate dates within the last ten years\n",
    "  d_fel[d > 365.25*10 | d < 0] <- 0\n",
    "  d_fel[d_fel != 0] <- 1\n",
    "  \n",
    "  d_arr <- d # isolate dates within the last three years\n",
    "  d_arr[d > 365.25*3 | d < 0] <- 0\n",
    "  d_arr[d_arr != 0] <- 1\n",
    "  \n",
    "  d7 <- d # isolate dates within the next seven years\n",
    "  d7[d > 0 | d < -365.25*7] <- 0\n",
    "  d7[d7 != 0] <- 1\n",
    "  \n",
    "  d10 <- d # isolate dates within the next ten years\n",
    "  d10[d > 0 | d < -365.25*10] <- 0\n",
    "  d10[d10 != 0] <- 1\n",
    "  \n",
    "  ########## FEATURE CONSTRUCTION ##########\n",
    "  \n",
    "  # Disposition = {Convicted; Deferred Dismissal; Dismissed}\n",
    "  # Deferred dismissal if disposition = Dismissed and plea = Guilty\n",
    "  # Plea = {guilty; not guilty}\n",
    "  # Must combine nolle prosequi and other pleas into these two categories\n",
    "  \n",
    "  data <- data %>%\n",
    "    mutate(disposition = DispositionCode,\n",
    "           disposition = fct_recode(disposition,\n",
    "                                    \"Dismissed\" = \"Nolle Prosequi\",\n",
    "                                    \"Dismissed\" = \"No Indictment Presented\",\n",
    "                                    \"Dismissed\" = \"Not True Bill\",\n",
    "                                    \"Dismissed\" = \"Dismissed/Other\",\n",
    "                                    \"Dismissed\" = \"Not Guilty\",\n",
    "                                    \"Dismissed\" = \"Not Guilty/Acquitted\",\n",
    "                                    \"Conviction\" = \"Guilty In Absentia\",\n",
    "                                    \"Conviction\" = \"Guilty\"),\n",
    "           disposition = fct_expand(disposition, \"Conviction\", \"Dismissed\", \"Deferral Dismissal\")\n",
    "    )\n",
    "  dd <- data$Plea %in% c(\"Alford\", \"Guilty\", \"Nolo Contendere\") & data$disposition == \"Dismissed\"\n",
    "  data$disposition[dd] <- \"Deferral Dismissal\"\n",
    "  \n",
    "  # Chargetype = {Felony; Misdemeanor}\n",
    "  \n",
    "  data <- data %>%\n",
    "    mutate(chargetype = factor(ChargeType, levels = c(\"Misdemeanor\", \"Felony\")),\n",
    "           chargetype = fct_expand(chargetype, \"Misdemeanor\", \"Felony\"))\n",
    "  \n",
    "  # Codesection = {covered in 19.2-392.6 A; covered in 19.2-392.6 B; excluded by 19.2-392.12; covered elsewhere}\n",
    "  \n",
    "  data <- data %>%\n",
    "    mutate(codesection = \"covered elsewhere\",\n",
    "           codesection = ifelse(CodeSection %in% B | (CodeSection %in% Bmis & chargetype == \"Misdemeanor\"), \"covered in 19.2-392.6 - B\", codesection),\n",
    "           codesection = ifelse(CodeSection %in% A & disposition == \"Deferral Dismissal\", \"covered in 19.2-392.6 - A\", codesection),\n",
    "           codesection = ifelse(CodeSection %in% Twelve, \"excluded by 19.2-392.12\", codesection),\n",
    "           codesection = as.factor(codesection),\n",
    "           codesection = fct_expand(codesection, \"covered in 19.2-392.6 - A\",\n",
    "                                    \"covered in 19.2-392.6 - B\",\n",
    "                                    \"excluded by 19.2-392.12\",\n",
    "                                    \"covered elsewhere\"))\n",
    "  \n",
    "  # Convictions = {True; False} (convictions on the person's record)\n",
    "  \n",
    "  data <- data %>%\n",
    "    mutate(convictions = any(disposition == \"Conviction\"))\n",
    "  \n",
    "  # Arrests = {True; False} (arrests or charges in the past 3 years)\n",
    "  \n",
    "  data <- data %>%\n",
    "    mutate(arrests = (rowSums(d_arr)!=0))\n",
    "  \n",
    "  # Felony10 = {True;False} (felony convictions within the last 10 years)\n",
    "  \n",
    "  data <- data %>%\n",
    "    mutate(felony10 = as.logical(d_fel %*% (chargetype == 'Felony' & disposition == \"Conviction\")) > 0)\n",
    "  \n",
    "  # Sevenyear = {True; False} (convictions of another kind within 7 years from disposition date)\n",
    "  # Tenyear = {True; False} (convictions of another kind within 10 years from disposition date)\n",
    "  \n",
    "  data <- data %>%\n",
    "    mutate(sevenyear = as.logical(d7 %*% as.matrix(disposition == \"Conviction\")) > 0,\n",
    "           tenyear = as.logical(d10 %*% as.matrix(disposition == \"Conviction\")) > 0)\n",
    "  \n",
    "  # Within7 = {True; False} (disposition date is within 7 years of the current date)\n",
    "  # Within10 = {True; False} (disposition date is within 10 years of the current date)\n",
    "  \n",
    "  data <- data %>%\n",
    "    mutate(HearingDate = as.Date(HearingDate),\n",
    "           within7 = (HearingDate > (as.Date(\"2020-12-31\") - lubridate::years(7))),\n",
    "           within10 = (HearingDate > (as.Date(\"2020-12-31\") - lubridate::years(10))))\n",
    "  \n",
    "  # Class3_4 = {True; False} (class 3 or 4 felony conviction within the past 20 years)\n",
    "  # Class1_2 = {True; False} (class 1 or 2 felony or any other felony punishable by imprisonment for life)\n",
    "  \n",
    "  data <- data %>%\n",
    "    mutate(class1_2 = any(Class %in% c(\"1\", \"2\") & chargetype==\"Felony\"),\n",
    "           class1_2 = ifelse(is.na(class1_2), FALSE, class1_2),\n",
    "           class3_4 = any(Class %in% c(\"3\", \"4\") & chargetype==\"Felony\"),\n",
    "           class3_4 = ifelse(is.na(class3_4), FALSE, class3_4))\n",
    "\n",
    "data"
   ]
  },
  {
   "cell_type": "code",
   "execution_count": 124,
   "id": "d3bf3506-5ebf-4459-96b4-33c51d2f7033",
   "metadata": {},
   "outputs": [
    {
     "data": {
      "text/html": [
       "<table class=\"dataframe\">\n",
       "<caption>A data.frame: 3 × 26</caption>\n",
       "<thead>\n",
       "\t<tr><th scope=col>person_id</th><th scope=col>HearingDate</th><th scope=col>CodeSection</th><th scope=col>ChargeType</th><th scope=col>Class</th><th scope=col>DispositionCode</th><th scope=col>Plea</th><th scope=col>Race</th><th scope=col>Sex</th><th scope=col>fips</th><th scope=col>⋯</th><th scope=col>sevenyear</th><th scope=col>tenyear</th><th scope=col>within7</th><th scope=col>within10</th><th scope=col>class1_2</th><th scope=col>class3_4</th><th scope=col>expungable</th><th scope=col>old_expungable</th><th scope=col>node</th><th scope=col>reason</th></tr>\n",
       "\t<tr><th scope=col>&lt;chr&gt;</th><th scope=col>&lt;date&gt;</th><th scope=col>&lt;chr&gt;</th><th scope=col>&lt;chr&gt;</th><th scope=col>&lt;chr&gt;</th><th scope=col>&lt;chr&gt;</th><th scope=col>&lt;chr&gt;</th><th scope=col>&lt;chr&gt;</th><th scope=col>&lt;chr&gt;</th><th scope=col>&lt;int&gt;</th><th scope=col>⋯</th><th scope=col>&lt;lgl&gt;</th><th scope=col>&lt;lgl&gt;</th><th scope=col>&lt;lgl&gt;</th><th scope=col>&lt;lgl&gt;</th><th scope=col>&lt;lgl&gt;</th><th scope=col>&lt;lgl&gt;</th><th scope=col>&lt;fct&gt;</th><th scope=col>&lt;lgl&gt;</th><th scope=col>&lt;int[,1]&gt;</th><th scope=col>&lt;chr&gt;</th></tr>\n",
       "</thead>\n",
       "<tbody>\n",
       "\t<tr><td>51220000000305</td><td>2010-05-03</td><td>46.2-613(2)</td><td>Misdemeanor</td><td>1</td><td>Guilty</td><td>Guilty</td><td>White Caucasian(Non-Hispanic)</td><td>Male</td><td>840</td><td>⋯</td><td>FALSE</td><td>FALSE</td><td>FALSE</td><td>FALSE</td><td>FALSE</td><td>FALSE</td><td>Automatic</td><td>FALSE</td><td>32</td><td>Conviction of misdemeanor charges listed in 19.2-392.6 B with no convictions within 7 years from disposition date</td></tr>\n",
       "\t<tr><td>51220000000305</td><td>2010-05-03</td><td>A.46.2-707 </td><td>Misdemeanor</td><td>3</td><td>Guilty</td><td>Guilty</td><td>White Caucasian(Non-Hispanic)</td><td>Male</td><td>840</td><td>⋯</td><td>FALSE</td><td>FALSE</td><td>FALSE</td><td>FALSE</td><td>FALSE</td><td>FALSE</td><td>Automatic</td><td>FALSE</td><td>32</td><td>Conviction of misdemeanor charges listed in 19.2-392.6 B with no convictions within 7 years from disposition date</td></tr>\n",
       "\t<tr><td>51220000000305</td><td>2010-05-03</td><td>46.2-300   </td><td>Misdemeanor</td><td>2</td><td>Guilty</td><td>Guilty</td><td>White Caucasian(Non-Hispanic)</td><td>Male</td><td>840</td><td>⋯</td><td>FALSE</td><td>FALSE</td><td>FALSE</td><td>FALSE</td><td>FALSE</td><td>FALSE</td><td>Automatic</td><td>FALSE</td><td>32</td><td>Conviction of misdemeanor charges listed in 19.2-392.6 B with no convictions within 7 years from disposition date</td></tr>\n",
       "</tbody>\n",
       "</table>\n"
      ],
      "text/latex": [
       "A data.frame: 3 × 26\n",
       "\\begin{tabular}{lllllllllllllllllllll}\n",
       " person\\_id & HearingDate & CodeSection & ChargeType & Class & DispositionCode & Plea & Race & Sex & fips & ⋯ & sevenyear & tenyear & within7 & within10 & class1\\_2 & class3\\_4 & expungable & old\\_expungable & node & reason\\\\\n",
       " <chr> & <date> & <chr> & <chr> & <chr> & <chr> & <chr> & <chr> & <chr> & <int> & ⋯ & <lgl> & <lgl> & <lgl> & <lgl> & <lgl> & <lgl> & <fct> & <lgl> & <int{[},1{]}> & <chr>\\\\\n",
       "\\hline\n",
       "\t 51220000000305 & 2010-05-03 & 46.2-613(2) & Misdemeanor & 1 & Guilty & Guilty & White Caucasian(Non-Hispanic) & Male & 840 & ⋯ & FALSE & FALSE & FALSE & FALSE & FALSE & FALSE & Automatic & FALSE & 32 & Conviction of misdemeanor charges listed in 19.2-392.6 B with no convictions within 7 years from disposition date\\\\\n",
       "\t 51220000000305 & 2010-05-03 & A.46.2-707  & Misdemeanor & 3 & Guilty & Guilty & White Caucasian(Non-Hispanic) & Male & 840 & ⋯ & FALSE & FALSE & FALSE & FALSE & FALSE & FALSE & Automatic & FALSE & 32 & Conviction of misdemeanor charges listed in 19.2-392.6 B with no convictions within 7 years from disposition date\\\\\n",
       "\t 51220000000305 & 2010-05-03 & 46.2-300    & Misdemeanor & 2 & Guilty & Guilty & White Caucasian(Non-Hispanic) & Male & 840 & ⋯ & FALSE & FALSE & FALSE & FALSE & FALSE & FALSE & Automatic & FALSE & 32 & Conviction of misdemeanor charges listed in 19.2-392.6 B with no convictions within 7 years from disposition date\\\\\n",
       "\\end{tabular}\n"
      ],
      "text/markdown": [
       "\n",
       "A data.frame: 3 × 26\n",
       "\n",
       "| person_id &lt;chr&gt; | HearingDate &lt;date&gt; | CodeSection &lt;chr&gt; | ChargeType &lt;chr&gt; | Class &lt;chr&gt; | DispositionCode &lt;chr&gt; | Plea &lt;chr&gt; | Race &lt;chr&gt; | Sex &lt;chr&gt; | fips &lt;int&gt; | ⋯ ⋯ | sevenyear &lt;lgl&gt; | tenyear &lt;lgl&gt; | within7 &lt;lgl&gt; | within10 &lt;lgl&gt; | class1_2 &lt;lgl&gt; | class3_4 &lt;lgl&gt; | expungable &lt;fct&gt; | old_expungable &lt;lgl&gt; | node &lt;int[,1]&gt; | reason &lt;chr&gt; |\n",
       "|---|---|---|---|---|---|---|---|---|---|---|---|---|---|---|---|---|---|---|---|---|\n",
       "| 51220000000305 | 2010-05-03 | 46.2-613(2) | Misdemeanor | 1 | Guilty | Guilty | White Caucasian(Non-Hispanic) | Male | 840 | ⋯ | FALSE | FALSE | FALSE | FALSE | FALSE | FALSE | Automatic | FALSE | 32 | Conviction of misdemeanor charges listed in 19.2-392.6 B with no convictions within 7 years from disposition date |\n",
       "| 51220000000305 | 2010-05-03 | A.46.2-707  | Misdemeanor | 3 | Guilty | Guilty | White Caucasian(Non-Hispanic) | Male | 840 | ⋯ | FALSE | FALSE | FALSE | FALSE | FALSE | FALSE | Automatic | FALSE | 32 | Conviction of misdemeanor charges listed in 19.2-392.6 B with no convictions within 7 years from disposition date |\n",
       "| 51220000000305 | 2010-05-03 | 46.2-300    | Misdemeanor | 2 | Guilty | Guilty | White Caucasian(Non-Hispanic) | Male | 840 | ⋯ | FALSE | FALSE | FALSE | FALSE | FALSE | FALSE | Automatic | FALSE | 32 | Conviction of misdemeanor charges listed in 19.2-392.6 B with no convictions within 7 years from disposition date |\n",
       "\n"
      ],
      "text/plain": [
       "  person_id      HearingDate CodeSection ChargeType  Class DispositionCode\n",
       "1 51220000000305 2010-05-03  46.2-613(2) Misdemeanor 1     Guilty         \n",
       "2 51220000000305 2010-05-03  A.46.2-707  Misdemeanor 3     Guilty         \n",
       "3 51220000000305 2010-05-03  46.2-300    Misdemeanor 2     Guilty         \n",
       "  Plea   Race                          Sex  fips ⋯ sevenyear tenyear within7\n",
       "1 Guilty White Caucasian(Non-Hispanic) Male 840  ⋯ FALSE     FALSE   FALSE  \n",
       "2 Guilty White Caucasian(Non-Hispanic) Male 840  ⋯ FALSE     FALSE   FALSE  \n",
       "3 Guilty White Caucasian(Non-Hispanic) Male 840  ⋯ FALSE     FALSE   FALSE  \n",
       "  within10 class1_2 class3_4 expungable old_expungable node\n",
       "1 FALSE    FALSE    FALSE    Automatic  FALSE          32  \n",
       "2 FALSE    FALSE    FALSE    Automatic  FALSE          32  \n",
       "3 FALSE    FALSE    FALSE    Automatic  FALSE          32  \n",
       "  reason                                                                                                           \n",
       "1 Conviction of misdemeanor charges listed in 19.2-392.6 B with no convictions within 7 years from disposition date\n",
       "2 Conviction of misdemeanor charges listed in 19.2-392.6 B with no convictions within 7 years from disposition date\n",
       "3 Conviction of misdemeanor charges listed in 19.2-392.6 B with no convictions within 7 years from disposition date"
      ]
     },
     "metadata": {},
     "output_type": "display_data"
    }
   ],
   "source": [
    "\n",
    "  ############## Apply the Random Forest to perform classification here ############\n",
    "  \n",
    "  # apply the auto encoder:\n",
    "  data <- data %>%\n",
    "    mutate(expungable = predict(expunge_coder, newdata=data))\n",
    "  \n",
    "  # add old law expungable count\n",
    "  data <- data %>% \n",
    "    mutate(old_expungable = (disposition == \"Dismissed\"))\n",
    "\n",
    "  # rationales\n",
    "  tree <- getTree(expunge_coder, labelVar=TRUE) #tree\n",
    "  nodes <- attr(predict(expunge_coder, newdata=data, nodes=TRUE), \"nodes\")\n",
    "  data$node <- nodes\n",
    "  data <- left_join(data, NODE_ENCODE, by=\"node\")\n",
    "  data"
   ]
  },
  {
   "cell_type": "code",
   "execution_count": 127,
   "id": "1e4e3354-667d-45d9-89ed-34d08b175d10",
   "metadata": {},
   "outputs": [
    {
     "data": {
      "text/html": [
       "<table class=\"dataframe\">\n",
       "<caption>A tibble: 3 × 28</caption>\n",
       "<thead>\n",
       "\t<tr><th scope=col>person_id</th><th scope=col>HearingDate</th><th scope=col>CodeSection</th><th scope=col>codesection</th><th scope=col>ChargeType</th><th scope=col>chargetype</th><th scope=col>Class</th><th scope=col>DispositionCode</th><th scope=col>disposition</th><th scope=col>Plea</th><th scope=col>⋯</th><th scope=col>within7</th><th scope=col>within10</th><th scope=col>class1_2</th><th scope=col>class3_4</th><th scope=col>expungable</th><th scope=col>old_expungable</th><th scope=col>expungable_no_lifetimelimit</th><th scope=col>reason</th><th scope=col>sameday</th><th scope=col>lifetime</th></tr>\n",
       "\t<tr><th scope=col>&lt;chr&gt;</th><th scope=col>&lt;date&gt;</th><th scope=col>&lt;chr&gt;</th><th scope=col>&lt;fct&gt;</th><th scope=col>&lt;chr&gt;</th><th scope=col>&lt;fct&gt;</th><th scope=col>&lt;chr&gt;</th><th scope=col>&lt;chr&gt;</th><th scope=col>&lt;fct&gt;</th><th scope=col>&lt;chr&gt;</th><th scope=col>⋯</th><th scope=col>&lt;lgl&gt;</th><th scope=col>&lt;lgl&gt;</th><th scope=col>&lt;lgl&gt;</th><th scope=col>&lt;lgl&gt;</th><th scope=col>&lt;fct&gt;</th><th scope=col>&lt;lgl&gt;</th><th scope=col>&lt;fct&gt;</th><th scope=col>&lt;chr&gt;</th><th scope=col>&lt;lgl&gt;</th><th scope=col>&lt;lgl&gt;</th></tr>\n",
       "</thead>\n",
       "<tbody>\n",
       "\t<tr><td>51220000000305</td><td>2010-05-03</td><td>46.2-613(2)</td><td>covered elsewhere</td><td>Misdemeanor</td><td>Misdemeanor</td><td>1</td><td>Guilty</td><td>Conviction</td><td>Guilty</td><td>⋯</td><td>FALSE</td><td>FALSE</td><td>FALSE</td><td>FALSE</td><td>Automatic   </td><td>FALSE</td><td>Automatic</td><td>Conviction of misdemeanor charges listed in 19.2-392.6 B with no convictions within 7 years from disposition date                                                                                                                  </td><td>FALSE</td><td>FALSE</td></tr>\n",
       "\t<tr><td>51220000000305</td><td>2010-05-03</td><td>A.46.2-707 </td><td>covered elsewhere</td><td>Misdemeanor</td><td>Misdemeanor</td><td>3</td><td>Guilty</td><td>Conviction</td><td>Guilty</td><td>⋯</td><td>FALSE</td><td>FALSE</td><td>FALSE</td><td>FALSE</td><td>Automatic   </td><td>FALSE</td><td>Automatic</td><td>Conviction of misdemeanor charges listed in 19.2-392.6 B with no convictions within 7 years from disposition date                                                                                                                  </td><td>FALSE</td><td>FALSE</td></tr>\n",
       "\t<tr><td>51220000000305</td><td>2010-05-03</td><td>46.2-300   </td><td>covered elsewhere</td><td>Misdemeanor</td><td>Misdemeanor</td><td>2</td><td>Guilty</td><td>Conviction</td><td>Guilty</td><td>⋯</td><td>FALSE</td><td>FALSE</td><td>FALSE</td><td>FALSE</td><td>Not eligible</td><td>FALSE</td><td>Automatic</td><td>Conviction of misdemeanor charges listed in 19.2-392.6 B with no convictions within 7 years from disposition date; HOWEVER, the outcome is changed to not eligible because the lifetime limit of two expungements has been exceeded</td><td>FALSE</td><td> TRUE</td></tr>\n",
       "</tbody>\n",
       "</table>\n"
      ],
      "text/latex": [
       "A tibble: 3 × 28\n",
       "\\begin{tabular}{lllllllllllllllllllll}\n",
       " person\\_id & HearingDate & CodeSection & codesection & ChargeType & chargetype & Class & DispositionCode & disposition & Plea & ⋯ & within7 & within10 & class1\\_2 & class3\\_4 & expungable & old\\_expungable & expungable\\_no\\_lifetimelimit & reason & sameday & lifetime\\\\\n",
       " <chr> & <date> & <chr> & <fct> & <chr> & <fct> & <chr> & <chr> & <fct> & <chr> & ⋯ & <lgl> & <lgl> & <lgl> & <lgl> & <fct> & <lgl> & <fct> & <chr> & <lgl> & <lgl>\\\\\n",
       "\\hline\n",
       "\t 51220000000305 & 2010-05-03 & 46.2-613(2) & covered elsewhere & Misdemeanor & Misdemeanor & 1 & Guilty & Conviction & Guilty & ⋯ & FALSE & FALSE & FALSE & FALSE & Automatic    & FALSE & Automatic & Conviction of misdemeanor charges listed in 19.2-392.6 B with no convictions within 7 years from disposition date                                                                                                                   & FALSE & FALSE\\\\\n",
       "\t 51220000000305 & 2010-05-03 & A.46.2-707  & covered elsewhere & Misdemeanor & Misdemeanor & 3 & Guilty & Conviction & Guilty & ⋯ & FALSE & FALSE & FALSE & FALSE & Automatic    & FALSE & Automatic & Conviction of misdemeanor charges listed in 19.2-392.6 B with no convictions within 7 years from disposition date                                                                                                                   & FALSE & FALSE\\\\\n",
       "\t 51220000000305 & 2010-05-03 & 46.2-300    & covered elsewhere & Misdemeanor & Misdemeanor & 2 & Guilty & Conviction & Guilty & ⋯ & FALSE & FALSE & FALSE & FALSE & Not eligible & FALSE & Automatic & Conviction of misdemeanor charges listed in 19.2-392.6 B with no convictions within 7 years from disposition date; HOWEVER, the outcome is changed to not eligible because the lifetime limit of two expungements has been exceeded & FALSE &  TRUE\\\\\n",
       "\\end{tabular}\n"
      ],
      "text/markdown": [
       "\n",
       "A tibble: 3 × 28\n",
       "\n",
       "| person_id &lt;chr&gt; | HearingDate &lt;date&gt; | CodeSection &lt;chr&gt; | codesection &lt;fct&gt; | ChargeType &lt;chr&gt; | chargetype &lt;fct&gt; | Class &lt;chr&gt; | DispositionCode &lt;chr&gt; | disposition &lt;fct&gt; | Plea &lt;chr&gt; | ⋯ ⋯ | within7 &lt;lgl&gt; | within10 &lt;lgl&gt; | class1_2 &lt;lgl&gt; | class3_4 &lt;lgl&gt; | expungable &lt;fct&gt; | old_expungable &lt;lgl&gt; | expungable_no_lifetimelimit &lt;fct&gt; | reason &lt;chr&gt; | sameday &lt;lgl&gt; | lifetime &lt;lgl&gt; |\n",
       "|---|---|---|---|---|---|---|---|---|---|---|---|---|---|---|---|---|---|---|---|---|\n",
       "| 51220000000305 | 2010-05-03 | 46.2-613(2) | covered elsewhere | Misdemeanor | Misdemeanor | 1 | Guilty | Conviction | Guilty | ⋯ | FALSE | FALSE | FALSE | FALSE | Automatic    | FALSE | Automatic | Conviction of misdemeanor charges listed in 19.2-392.6 B with no convictions within 7 years from disposition date                                                                                                                   | FALSE | FALSE |\n",
       "| 51220000000305 | 2010-05-03 | A.46.2-707  | covered elsewhere | Misdemeanor | Misdemeanor | 3 | Guilty | Conviction | Guilty | ⋯ | FALSE | FALSE | FALSE | FALSE | Automatic    | FALSE | Automatic | Conviction of misdemeanor charges listed in 19.2-392.6 B with no convictions within 7 years from disposition date                                                                                                                   | FALSE | FALSE |\n",
       "| 51220000000305 | 2010-05-03 | 46.2-300    | covered elsewhere | Misdemeanor | Misdemeanor | 2 | Guilty | Conviction | Guilty | ⋯ | FALSE | FALSE | FALSE | FALSE | Not eligible | FALSE | Automatic | Conviction of misdemeanor charges listed in 19.2-392.6 B with no convictions within 7 years from disposition date; HOWEVER, the outcome is changed to not eligible because the lifetime limit of two expungements has been exceeded | FALSE |  TRUE |\n",
       "\n"
      ],
      "text/plain": [
       "  person_id      HearingDate CodeSection codesection       ChargeType \n",
       "1 51220000000305 2010-05-03  46.2-613(2) covered elsewhere Misdemeanor\n",
       "2 51220000000305 2010-05-03  A.46.2-707  covered elsewhere Misdemeanor\n",
       "3 51220000000305 2010-05-03  46.2-300    covered elsewhere Misdemeanor\n",
       "  chargetype  Class DispositionCode disposition Plea   ⋯ within7 within10\n",
       "1 Misdemeanor 1     Guilty          Conviction  Guilty ⋯ FALSE   FALSE   \n",
       "2 Misdemeanor 3     Guilty          Conviction  Guilty ⋯ FALSE   FALSE   \n",
       "3 Misdemeanor 2     Guilty          Conviction  Guilty ⋯ FALSE   FALSE   \n",
       "  class1_2 class3_4 expungable   old_expungable expungable_no_lifetimelimit\n",
       "1 FALSE    FALSE    Automatic    FALSE          Automatic                  \n",
       "2 FALSE    FALSE    Automatic    FALSE          Automatic                  \n",
       "3 FALSE    FALSE    Not eligible FALSE          Automatic                  \n",
       "  reason                                                                                                                                                                                                                             \n",
       "1 Conviction of misdemeanor charges listed in 19.2-392.6 B with no convictions within 7 years from disposition date                                                                                                                  \n",
       "2 Conviction of misdemeanor charges listed in 19.2-392.6 B with no convictions within 7 years from disposition date                                                                                                                  \n",
       "3 Conviction of misdemeanor charges listed in 19.2-392.6 B with no convictions within 7 years from disposition date; HOWEVER, the outcome is changed to not eligible because the lifetime limit of two expungements has been exceeded\n",
       "  sameday lifetime\n",
       "1 FALSE   FALSE   \n",
       "2 FALSE   FALSE   \n",
       "3 FALSE    TRUE   "
      ]
     },
     "metadata": {},
     "output_type": "display_data"
    }
   ],
   "source": [
    "\n",
    "  ############# Additional conditions that change the expungement outcome ##########\n",
    "  \n",
    "  # Sameday = {True; False} (same day rule in effect)\n",
    "  \n",
    "  data <- data %>%\n",
    "    group_by(HearingDate) %>%\n",
    "    mutate(nonauto_count_day = sum(expungable != \"Automatic\" & expungable != \"Automatic (pending)\")) %>%\n",
    "    ungroup() %>%\n",
    "    mutate(sameday = (expungable %in% c(\"Automatic\", \"Automatic (pending)\") & nonauto_count_day > 0),\n",
    "           reason2 = ifelse(sameday, \"; HOWEVER, the outcome is changed to petition because of a conviction on the same day of something that is not automatically expungable\",\"\"))\n",
    "  \n",
    "  data$expungable[data$sameday & data$expungable==\"Automatic\"] <- \"Petition\"\n",
    "  data$expungable[data$sameday & data$expungable==\"Automatic (pending)\"] <- \"Petition (pending)\"\n",
    "  data$expungable_no_lifetimelimit <- data$expungable\n",
    "  \n",
    "  # Lifetime = {True; False} (more than 2 lifetime expungements of convictions)\n",
    "  \n",
    "  data <- data %>%\n",
    "    arrange(HearingDate) %>%\n",
    "    mutate(totalexpunge = cumsum(expungable %in% c(\"Automatic\", \"Petition\")),\n",
    "           lifetime = totalexpunge > 2,\n",
    "           lifetime = lifetime & (disposition == \"Conviction\" | (disposition == \"Deferral Dismissal\" & sameday)),\n",
    "           reason2 = ifelse(lifetime & expungable != \"Not eligible\", \"; HOWEVER, the outcome is changed to not eligible because the lifetime limit of two expungements has been exceeded\",\"\")) %>%\n",
    "    unite(reason, reason, reason2, sep=\"\")\n",
    "  \n",
    "  data$expungable[data$lifetime] <- \"Not eligible\"\n",
    "  \n",
    "  # Fix missing values for race and sex: replace with mode\n",
    "  if (all(is.na(data$Race))) {\n",
    "    data <- mutate(data, Race = \"MISSING\")\n",
    "  } else {\n",
    "    data$Race[is.na(data$Race)] <- names(which.max(table(data$Race)))[1]  \n",
    "  }\n",
    "  \n",
    "  if (all(is.na(data$Sex))) {\n",
    "    data <- mutate(data, Sex = \"MISSING\")\n",
    "  } else {\n",
    "    data$Sex[is.na(data$Sex)] <- names(which.max(table(data$Sex)))[1]\n",
    "  }\n",
    "  \n",
    "  ########### Select columns to keep ###############\n",
    "  data <- dplyr::select(data, person_id, HearingDate, CodeSection, codesection,\n",
    "                        ChargeType, chargetype, Class, DispositionCode, disposition,\n",
    "                        Plea, Race, Sex, fips, convictions:expungable, old_expungable, \n",
    "                        expungable_no_lifetimelimit, reason,\n",
    "                        sameday, lifetime)\n",
    "#  return(data)\n",
    "#}\n",
    "data"
   ]
  },
  {
   "cell_type": "code",
   "execution_count": null,
   "id": "56610c04-1e59-42ed-b168-432cf1253fa2",
   "metadata": {},
   "outputs": [],
   "source": []
  },
  {
   "cell_type": "code",
   "execution_count": null,
   "id": "382b3a25-fdb5-49d1-970b-088c5cbd8230",
   "metadata": {},
   "outputs": [],
   "source": []
  },
  {
   "cell_type": "code",
   "execution_count": null,
   "id": "90936960-09d7-4f9f-87f9-77e8cf4007a6",
   "metadata": {},
   "outputs": [],
   "source": []
  },
  {
   "cell_type": "code",
   "execution_count": null,
   "id": "e462977e-506e-491e-b744-cd64b71762f5",
   "metadata": {},
   "outputs": [],
   "source": []
  },
  {
   "cell_type": "code",
   "execution_count": null,
   "id": "f7d7d0b6-83da-45ce-a294-13a22a617982",
   "metadata": {},
   "outputs": [],
   "source": []
  },
  {
   "cell_type": "code",
   "execution_count": null,
   "id": "fa7f505b-b991-4ca3-acc7-8d1a51e26e14",
   "metadata": {},
   "outputs": [],
   "source": [
    "# install pkgr\n",
    "cd ~\n",
    "wget https://github.com/metrumresearchgroup/pkgr/releases/download/v2.0.1/pkgr_2.0.1_linux_amd64.tar.gz -O pkgr.tar.gz\n",
    "tar xzf pkgr.tar.gz pkgr\n",
    "chmod +x pkgr\n",
    "\n",
    "# clone the repo\n",
    "git clone https://github.com/code-for-charlottesville/LAJC-expungement.git\n",
    "\n",
    "# go into the repo and install the packages\n",
    "cd LAJC-expungement\n",
    "~/pkgr install "
   ]
  },
  {
   "cell_type": "code",
   "execution_count": 47,
   "id": "8f5f9bd2-4405-456f-81a6-ee752521e1db",
   "metadata": {},
   "outputs": [
    {
     "data": {
      "text/html": [
       "<table class=\"dataframe\">\n",
       "<caption>A data.frame: 10 × 1</caption>\n",
       "<thead>\n",
       "\t<tr><th scope=col>person_id</th></tr>\n",
       "\t<tr><th scope=col>&lt;chr&gt;</th></tr>\n",
       "</thead>\n",
       "<tbody>\n",
       "\t<tr><td>301171000000416</td></tr>\n",
       "\t<tr><td>208070000000932</td></tr>\n",
       "\t<tr><td>39020000000298 </td></tr>\n",
       "\t<tr><td>252110000000302</td></tr>\n",
       "\t<tr><td>143051000000314</td></tr>\n",
       "\t<tr><td>137220000000608</td></tr>\n",
       "\t<tr><td>145171000000354</td></tr>\n",
       "\t<tr><td>353071000000072</td></tr>\n",
       "\t<tr><td>251030000000097</td></tr>\n",
       "\t<tr><td>278020000000546</td></tr>\n",
       "</tbody>\n",
       "</table>\n"
      ],
      "text/latex": [
       "A data.frame: 10 × 1\n",
       "\\begin{tabular}{l}\n",
       " person\\_id\\\\\n",
       " <chr>\\\\\n",
       "\\hline\n",
       "\t 301171000000416\\\\\n",
       "\t 208070000000932\\\\\n",
       "\t 39020000000298 \\\\\n",
       "\t 252110000000302\\\\\n",
       "\t 143051000000314\\\\\n",
       "\t 137220000000608\\\\\n",
       "\t 145171000000354\\\\\n",
       "\t 353071000000072\\\\\n",
       "\t 251030000000097\\\\\n",
       "\t 278020000000546\\\\\n",
       "\\end{tabular}\n"
      ],
      "text/markdown": [
       "\n",
       "A data.frame: 10 × 1\n",
       "\n",
       "| person_id &lt;chr&gt; |\n",
       "|---|\n",
       "| 301171000000416 |\n",
       "| 208070000000932 |\n",
       "| 39020000000298  |\n",
       "| 252110000000302 |\n",
       "| 143051000000314 |\n",
       "| 137220000000608 |\n",
       "| 145171000000354 |\n",
       "| 353071000000072 |\n",
       "| 251030000000097 |\n",
       "| 278020000000546 |\n",
       "\n"
      ],
      "text/plain": [
       "   person_id      \n",
       "1  301171000000416\n",
       "2  208070000000932\n",
       "3  39020000000298 \n",
       "4  252110000000302\n",
       "5  143051000000314\n",
       "6  137220000000608\n",
       "7  145171000000354\n",
       "8  353071000000072\n",
       "9  251030000000097\n",
       "10 278020000000546"
      ]
     },
     "metadata": {},
     "output_type": "display_data"
    }
   ],
   "source": [
    "sample_n(all_ids, 10)"
   ]
  },
  {
   "cell_type": "code",
   "execution_count": null,
   "id": "1470ab38-d5bd-4bfd-8141-e3d46bb50d4f",
   "metadata": {},
   "outputs": [],
   "source": []
  },
  {
   "cell_type": "code",
   "execution_count": null,
   "id": "1a2eae7e-0f6a-4113-83d7-afdd69d215cf",
   "metadata": {},
   "outputs": [],
   "source": [
    "INFO[0002] Successfully Installed.                       package=bit64 remaining=56 repo=MPN version=4.0.5\n",
    "ERRO[0002] cmd output                                    exitCode=1 package=curl stderr=\"* installing *source* package ‘curl’ ...\\n** package ‘curl’ successfully unpacked and MD5 sums checked\\n** using staged installation\\nERROR: configuration failed for package ‘curl’\\n* removing ‘/tmp/OMSHHKECMQWN/curl’\\n\" stdout=\"Found pkg-config cflags and libs!\\nUsing PKG_CFLAGS=-I/usr/include/x86_64-linux-gnu\\nUsing PKG_LIBS=-lcurl\\n------------------------- ANTICONF ERROR ---------------------------\\nConfiguration failed because libcurl was not found. Try installing:\\n * deb: libcurl4-openssl-dev (Debian, Ubuntu, etc)\\n * rpm: libcurl-devel (Fedora, CentOS, RHEL)\\n * csw: libcurl_dev (Solaris)\\nIf libcurl is already installed, check that 'pkg-config' is in your\\nPATH and PKG_CONFIG_PATH contains a libcurl.pc file. If pkg-config\\nis unavailable you can set INCLUDE_DIR and LIB_DIR manually via:\\nR CMD INSTALL --configure-vars='INCLUDE_DIR=... LIB_DIR=...'\\n--------------------------------------------------------------------\\n\"\n",
    "WARN[0002] error installing                              err=\"exit status 1\""
   ]
  }
 ],
 "metadata": {
  "kernelspec": {
   "display_name": "R",
   "language": "R",
   "name": "ir"
  },
  "language_info": {
   "codemirror_mode": "r",
   "file_extension": ".r",
   "mimetype": "text/x-r-source",
   "name": "R",
   "pygments_lexer": "r",
   "version": "4.0.5"
  }
 },
 "nbformat": 4,
 "nbformat_minor": 5
}
