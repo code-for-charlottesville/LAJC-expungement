{
 "cells": [
  {
   "cell_type": "markdown",
   "id": "a5a192bd-5be1-400f-8505-5e94aaf42db0",
   "metadata": {},
   "source": [
    "# Get Started\n",
    "\n",
    "Before running this code, you'll need clone the repo into your home directory\n",
    "\n",
    "* `cd ~`\n",
    "* `git clone https://github.com/code-for-charlottesville/LAJC-expungement.git`\n",
    "  \n",
    "Next you'll do the following in R\n",
    "\n",
    "* Set your working directory to the repo\n",
    "* Set your library paths\n",
    "* Load required libraries\n",
    "* Load the helper functions\n",
    "* Load the classifier function"
   ]
  },
  {
   "cell_type": "code",
   "execution_count": 65,
   "id": "90db309b-40cb-423d-ab70-1f7f94478e46",
   "metadata": {},
   "outputs": [],
   "source": [
    "setwd(\"~/LAJC-expungement/\")\n",
    ".libPaths(\"~/R/x86_64-pc-linux-gnu-library/4.0/\")\n",
    "source(here::here(\"code\", \"helper-functions-db.R\"))\n",
    "source(here::here(\"code\", \"expunge_classifier2.R\"))"
   ]
  },
  {
   "cell_type": "code",
   "execution_count": null,
   "id": "1608a3bd-0b81-49f5-8509-3e9554c49a4b",
   "metadata": {},
   "outputs": [],
   "source": []
  },
  {
   "cell_type": "markdown",
   "id": "8d18cfab-1e8c-4a21-a3c2-875d5ea4c916",
   "metadata": {},
   "source": [
    "## Preview the data\n",
    "\n",
    "Here use the helper functions we just loaded to do the following:\n",
    "\n",
    "* Check what ID's are in a table of interest. There are four tables of raw data. The first three are random samples from the fourth, useful for developing and iterating without running on the full data.\n",
    "  * `data_1k_sample`\n",
    "  * `data_10k_sample`\n",
    "  * `data_100k_sample`\n",
    "  * `expunge` (the full data, about 3 million ID's)\n",
    "* Load the raw data for a sample ID\n",
    "* Classify a sample ID and look at the result"
   ]
  },
  {
   "cell_type": "code",
   "execution_count": 8,
   "id": "ccfc2250-12d5-4902-9623-a5c005961c82",
   "metadata": {},
   "outputs": [
    {
     "data": {
      "text/html": [
       "<style>\n",
       ".list-inline {list-style: none; margin:0; padding: 0}\n",
       ".list-inline>li {display: inline-block}\n",
       ".list-inline>li:not(:last-child)::after {content: \"\\00b7\"; padding: 0 .5ex}\n",
       "</style>\n",
       "<ol class=list-inline><li>'127051000000102'</li><li>'270120000000917'</li><li>'121180000001025'</li><li>'252020000000393'</li><li>'299150000000524'</li><li>'242170000000190'</li></ol>\n"
      ],
      "text/latex": [
       "\\begin{enumerate*}\n",
       "\\item '127051000000102'\n",
       "\\item '270120000000917'\n",
       "\\item '121180000001025'\n",
       "\\item '252020000000393'\n",
       "\\item '299150000000524'\n",
       "\\item '242170000000190'\n",
       "\\end{enumerate*}\n"
      ],
      "text/markdown": [
       "1. '127051000000102'\n",
       "2. '270120000000917'\n",
       "3. '121180000001025'\n",
       "4. '252020000000393'\n",
       "5. '299150000000524'\n",
       "6. '242170000000190'\n",
       "\n",
       "\n"
      ],
      "text/plain": [
       "[1] \"127051000000102\" \"270120000000917\" \"121180000001025\" \"252020000000393\"\n",
       "[5] \"299150000000524\" \"242170000000190\""
      ]
     },
     "metadata": {},
     "output_type": "display_data"
    }
   ],
   "source": [
    ".table <- \"data_1k_sample\"\n",
    "head(get_ids_from_table(.table))"
   ]
  },
  {
   "cell_type": "code",
   "execution_count": 9,
   "id": "4123da15-f67c-4b9a-9b82-3ab499bb8b61",
   "metadata": {},
   "outputs": [
    {
     "data": {
      "text/html": [
       "<table class=\"dataframe\">\n",
       "<caption>A data.frame: 4 × 10</caption>\n",
       "<thead>\n",
       "\t<tr><th scope=col>person_id</th><th scope=col>HearingDate</th><th scope=col>CodeSection</th><th scope=col>ChargeType</th><th scope=col>Class</th><th scope=col>DispositionCode</th><th scope=col>Plea</th><th scope=col>Race</th><th scope=col>Sex</th><th scope=col>fips</th></tr>\n",
       "\t<tr><th scope=col>&lt;chr&gt;</th><th scope=col>&lt;date&gt;</th><th scope=col>&lt;chr&gt;</th><th scope=col>&lt;chr&gt;</th><th scope=col>&lt;chr&gt;</th><th scope=col>&lt;chr&gt;</th><th scope=col>&lt;chr&gt;</th><th scope=col>&lt;chr&gt;</th><th scope=col>&lt;chr&gt;</th><th scope=col>&lt;int&gt;</th></tr>\n",
       "</thead>\n",
       "<tbody>\n",
       "\t<tr><td>127051000000102</td><td>2008-12-01</td><td>4.1-308   </td><td>Misdemeanor</td><td>4 </td><td>Nolle Prosequi</td><td>NA    </td><td>White Caucasian (Non-Hispanic)</td><td>Female</td><td>1</td></tr>\n",
       "\t<tr><td>127051000000102</td><td>2012-01-30</td><td>A.18.2-266</td><td>Misdemeanor</td><td>1 </td><td>Not Guilty    </td><td>NA    </td><td>White Caucasian(Non-Hispanic) </td><td>Female</td><td>1</td></tr>\n",
       "\t<tr><td>127051000000102</td><td>2012-01-30</td><td>46.2-000  </td><td>Misdemeanor</td><td>NA</td><td>Dismissed     </td><td>NA    </td><td>White Caucasian(Non-Hispanic) </td><td>Female</td><td>1</td></tr>\n",
       "\t<tr><td>127051000000102</td><td>2012-09-27</td><td>C.46.2-894</td><td>Felony     </td><td>5 </td><td>Guilty        </td><td>Guilty</td><td>White Caucasian (Non-Hispanic)</td><td>Female</td><td>1</td></tr>\n",
       "</tbody>\n",
       "</table>\n"
      ],
      "text/latex": [
       "A data.frame: 4 × 10\n",
       "\\begin{tabular}{llllllllll}\n",
       " person\\_id & HearingDate & CodeSection & ChargeType & Class & DispositionCode & Plea & Race & Sex & fips\\\\\n",
       " <chr> & <date> & <chr> & <chr> & <chr> & <chr> & <chr> & <chr> & <chr> & <int>\\\\\n",
       "\\hline\n",
       "\t 127051000000102 & 2008-12-01 & 4.1-308    & Misdemeanor & 4  & Nolle Prosequi & NA     & White Caucasian (Non-Hispanic) & Female & 1\\\\\n",
       "\t 127051000000102 & 2012-01-30 & A.18.2-266 & Misdemeanor & 1  & Not Guilty     & NA     & White Caucasian(Non-Hispanic)  & Female & 1\\\\\n",
       "\t 127051000000102 & 2012-01-30 & 46.2-000   & Misdemeanor & NA & Dismissed      & NA     & White Caucasian(Non-Hispanic)  & Female & 1\\\\\n",
       "\t 127051000000102 & 2012-09-27 & C.46.2-894 & Felony      & 5  & Guilty         & Guilty & White Caucasian (Non-Hispanic) & Female & 1\\\\\n",
       "\\end{tabular}\n"
      ],
      "text/markdown": [
       "\n",
       "A data.frame: 4 × 10\n",
       "\n",
       "| person_id &lt;chr&gt; | HearingDate &lt;date&gt; | CodeSection &lt;chr&gt; | ChargeType &lt;chr&gt; | Class &lt;chr&gt; | DispositionCode &lt;chr&gt; | Plea &lt;chr&gt; | Race &lt;chr&gt; | Sex &lt;chr&gt; | fips &lt;int&gt; |\n",
       "|---|---|---|---|---|---|---|---|---|---|\n",
       "| 127051000000102 | 2008-12-01 | 4.1-308    | Misdemeanor | 4  | Nolle Prosequi | NA     | White Caucasian (Non-Hispanic) | Female | 1 |\n",
       "| 127051000000102 | 2012-01-30 | A.18.2-266 | Misdemeanor | 1  | Not Guilty     | NA     | White Caucasian(Non-Hispanic)  | Female | 1 |\n",
       "| 127051000000102 | 2012-01-30 | 46.2-000   | Misdemeanor | NA | Dismissed      | NA     | White Caucasian(Non-Hispanic)  | Female | 1 |\n",
       "| 127051000000102 | 2012-09-27 | C.46.2-894 | Felony      | 5  | Guilty         | Guilty | White Caucasian (Non-Hispanic) | Female | 1 |\n",
       "\n"
      ],
      "text/plain": [
       "  person_id       HearingDate CodeSection ChargeType  Class DispositionCode\n",
       "1 127051000000102 2008-12-01  4.1-308     Misdemeanor 4     Nolle Prosequi \n",
       "2 127051000000102 2012-01-30  A.18.2-266  Misdemeanor 1     Not Guilty     \n",
       "3 127051000000102 2012-01-30  46.2-000    Misdemeanor NA    Dismissed      \n",
       "4 127051000000102 2012-09-27  C.46.2-894  Felony      5     Guilty         \n",
       "  Plea   Race                           Sex    fips\n",
       "1 NA     White Caucasian (Non-Hispanic) Female 1   \n",
       "2 NA     White Caucasian(Non-Hispanic)  Female 1   \n",
       "3 NA     White Caucasian(Non-Hispanic)  Female 1   \n",
       "4 Guilty White Caucasian (Non-Hispanic) Female 1   "
      ]
     },
     "metadata": {},
     "output_type": "display_data"
    }
   ],
   "source": [
    ".id <- \"127051000000102\"\n",
    "read_person_file_db(.id, .table)"
   ]
  },
  {
   "cell_type": "code",
   "execution_count": 17,
   "id": "0f68a46a-37cc-4ef2-948e-0c4521fc7e1f",
   "metadata": {},
   "outputs": [
    {
     "name": "stderr",
     "output_type": "stream",
     "text": [
      "Warning message:\n",
      "“Unknown levels in `f`: No Indictment Presented, Not True Bill, Dismissed/Other, Not Guilty/Acquitted, Guilty In Absentia”\n"
     ]
    },
    {
     "data": {
      "text/html": [
       "<table class=\"dataframe\">\n",
       "<caption>A tibble: 4 × 4</caption>\n",
       "<thead>\n",
       "\t<tr><th scope=col>person_id</th><th scope=col>HearingDate</th><th scope=col>expungable</th><th scope=col>reason</th></tr>\n",
       "\t<tr><th scope=col>&lt;chr&gt;</th><th scope=col>&lt;date&gt;</th><th scope=col>&lt;fct&gt;</th><th scope=col>&lt;chr&gt;</th></tr>\n",
       "</thead>\n",
       "<tbody>\n",
       "\t<tr><td>127051000000102</td><td>2008-12-01</td><td>Petition    </td><td>Dismissal of misdemeanor charges with no arrests or charges in the past 3 years, but with prior convictions on the person's record                                                                                                                                                                                                                                                                                                                                                                                                                                                             </td></tr>\n",
       "\t<tr><td>127051000000102</td><td>2012-01-30</td><td>Petition    </td><td>Dismissal of misdemeanor charges with no arrests or charges in the past 3 years, but with prior convictions on the person's record                                                                                                                                                                                                                                                                                                                                                                                                                                                             </td></tr>\n",
       "\t<tr><td>127051000000102</td><td>2012-01-30</td><td>Petition    </td><td>Dismissal of misdemeanor charges with no arrests or charges in the past 3 years, but with prior convictions on the person's record                                                                                                                                                                                                                                                                                                                                                                                                                                                             </td></tr>\n",
       "\t<tr><td>127051000000102</td><td>2012-09-27</td><td>Not eligible</td><td>Conviction or deferred dismissal of felony charges that are not ones listed under 19.2-392.12, with no felonies within the last 10 years, no class 3 or 4 felony conviction within the past 20 years, no class 1 or 2 felony or any other felony punishable by imprisonment for life, and no convictions of another kind since disposition date. However, because the disposition date is within 10 years of the current date, the record is not yet eligible for expungement; HOWEVER, the outcome is changed to not eligible because the lifetime limit of two expungements has been exceeded</td></tr>\n",
       "</tbody>\n",
       "</table>\n"
      ],
      "text/latex": [
       "A tibble: 4 × 4\n",
       "\\begin{tabular}{llll}\n",
       " person\\_id & HearingDate & expungable & reason\\\\\n",
       " <chr> & <date> & <fct> & <chr>\\\\\n",
       "\\hline\n",
       "\t 127051000000102 & 2008-12-01 & Petition     & Dismissal of misdemeanor charges with no arrests or charges in the past 3 years, but with prior convictions on the person's record                                                                                                                                                                                                                                                                                                                                                                                                                                                             \\\\\n",
       "\t 127051000000102 & 2012-01-30 & Petition     & Dismissal of misdemeanor charges with no arrests or charges in the past 3 years, but with prior convictions on the person's record                                                                                                                                                                                                                                                                                                                                                                                                                                                             \\\\\n",
       "\t 127051000000102 & 2012-01-30 & Petition     & Dismissal of misdemeanor charges with no arrests or charges in the past 3 years, but with prior convictions on the person's record                                                                                                                                                                                                                                                                                                                                                                                                                                                             \\\\\n",
       "\t 127051000000102 & 2012-09-27 & Not eligible & Conviction or deferred dismissal of felony charges that are not ones listed under 19.2-392.12, with no felonies within the last 10 years, no class 3 or 4 felony conviction within the past 20 years, no class 1 or 2 felony or any other felony punishable by imprisonment for life, and no convictions of another kind since disposition date. However, because the disposition date is within 10 years of the current date, the record is not yet eligible for expungement; HOWEVER, the outcome is changed to not eligible because the lifetime limit of two expungements has been exceeded\\\\\n",
       "\\end{tabular}\n"
      ],
      "text/markdown": [
       "\n",
       "A tibble: 4 × 4\n",
       "\n",
       "| person_id &lt;chr&gt; | HearingDate &lt;date&gt; | expungable &lt;fct&gt; | reason &lt;chr&gt; |\n",
       "|---|---|---|---|\n",
       "| 127051000000102 | 2008-12-01 | Petition     | Dismissal of misdemeanor charges with no arrests or charges in the past 3 years, but with prior convictions on the person's record                                                                                                                                                                                                                                                                                                                                                                                                                                                              |\n",
       "| 127051000000102 | 2012-01-30 | Petition     | Dismissal of misdemeanor charges with no arrests or charges in the past 3 years, but with prior convictions on the person's record                                                                                                                                                                                                                                                                                                                                                                                                                                                              |\n",
       "| 127051000000102 | 2012-01-30 | Petition     | Dismissal of misdemeanor charges with no arrests or charges in the past 3 years, but with prior convictions on the person's record                                                                                                                                                                                                                                                                                                                                                                                                                                                              |\n",
       "| 127051000000102 | 2012-09-27 | Not eligible | Conviction or deferred dismissal of felony charges that are not ones listed under 19.2-392.12, with no felonies within the last 10 years, no class 3 or 4 felony conviction within the past 20 years, no class 1 or 2 felony or any other felony punishable by imprisonment for life, and no convictions of another kind since disposition date. However, because the disposition date is within 10 years of the current date, the record is not yet eligible for expungement; HOWEVER, the outcome is changed to not eligible because the lifetime limit of two expungements has been exceeded |\n",
       "\n"
      ],
      "text/plain": [
       "  person_id       HearingDate expungable  \n",
       "1 127051000000102 2008-12-01  Petition    \n",
       "2 127051000000102 2012-01-30  Petition    \n",
       "3 127051000000102 2012-01-30  Petition    \n",
       "4 127051000000102 2012-09-27  Not eligible\n",
       "  reason                                                                                                                                                                                                                                                                                                                                                                                                                                                                                                                                                                                         \n",
       "1 Dismissal of misdemeanor charges with no arrests or charges in the past 3 years, but with prior convictions on the person's record                                                                                                                                                                                                                                                                                                                                                                                                                                                             \n",
       "2 Dismissal of misdemeanor charges with no arrests or charges in the past 3 years, but with prior convictions on the person's record                                                                                                                                                                                                                                                                                                                                                                                                                                                             \n",
       "3 Dismissal of misdemeanor charges with no arrests or charges in the past 3 years, but with prior convictions on the person's record                                                                                                                                                                                                                                                                                                                                                                                                                                                             \n",
       "4 Conviction or deferred dismissal of felony charges that are not ones listed under 19.2-392.12, with no felonies within the last 10 years, no class 3 or 4 felony conviction within the past 20 years, no class 1 or 2 felony or any other felony punishable by imprisonment for life, and no convictions of another kind since disposition date. However, because the disposition date is within 10 years of the current date, the record is not yet eligible for expungement; HOWEVER, the outcome is changed to not eligible because the lifetime limit of two expungements has been exceeded"
      ]
     },
     "metadata": {},
     "output_type": "display_data"
    }
   ],
   "source": [
    "xdf <- read_person_file_db(.id, .table) %>%\n",
    "  classify_ex2() \n",
    "\n",
    "select(xdf, person_id, HearingDate, expungable, reason)"
   ]
  },
  {
   "cell_type": "code",
   "execution_count": null,
   "id": "c30d6d48-6b2f-4ddb-9521-1d846f2c270c",
   "metadata": {},
   "outputs": [],
   "source": []
  },
  {
   "cell_type": "markdown",
   "id": "893e1292-47dd-4968-9b6b-76e4c0563b2e",
   "metadata": {},
   "source": [
    "# Classify a full table\n",
    "\n",
    "This section is the real stuff. \n",
    "\n",
    "* Classify all rows in a given table\n",
    "* Write the classified rows to a new table\n",
    "* Preview the results of that\n",
    "\n",
    "Note: **you can pass in a customized classifier function** where we are passing in `classify_ex2()`. If you are tweaking the classifier, save your new function, source it as we do above, and then pass it to `classify_table(.classifier_func)`."
   ]
  },
  {
   "cell_type": "code",
   "execution_count": null,
   "id": "cd5831c8-5385-4a10-9af8-d3661b605487",
   "metadata": {},
   "outputs": [],
   "source": []
  },
  {
   "cell_type": "code",
   "execution_count": 53,
   "id": "fa22c6e4-05c3-4a99-aad1-195ac54e2d37",
   "metadata": {},
   "outputs": [
    {
     "name": "stdout",
     "output_type": "stream",
     "text": [
      "test_table_jupyter_seth127\n"
     ]
    }
   ],
   "source": [
    "# define new table name for classified observations\n",
    "# NOTE: this will append to this table, NOT overwrite it\n",
    "# so give it a unique name, unless you're intending to append new rows to an existing table\n",
    ".nt <- gsub(\"[^A-Za-z0-9]\", \"_\", glue(\"test-table-{Sys.getenv('USER')}\"))\n",
    "print(.nt)"
   ]
  },
  {
   "cell_type": "code",
   "execution_count": 52,
   "id": "3022b01f-fa8d-4fda-bae3-3432edd00ada",
   "metadata": {},
   "outputs": [
    {
     "data": {
      "text/html": [
       "<style>\n",
       ".list-inline {list-style: none; margin:0; padding: 0}\n",
       ".list-inline>li {display: inline-block}\n",
       ".list-inline>li:not(:last-child)::after {content: \"\\00b7\"; padding: 0 .5ex}\n",
       "</style>\n",
       "<ol class=list-inline><li>'expunge'</li><li>'ids_1k_sample'</li><li>'ids_10k_sample'</li><li>'ids_100k_sample'</li><li>'data_1k_sample'</li><li>'data_10k_sample'</li><li>'data_100k_sample'</li></ol>\n"
      ],
      "text/latex": [
       "\\begin{enumerate*}\n",
       "\\item 'expunge'\n",
       "\\item 'ids\\_1k\\_sample'\n",
       "\\item 'ids\\_10k\\_sample'\n",
       "\\item 'ids\\_100k\\_sample'\n",
       "\\item 'data\\_1k\\_sample'\n",
       "\\item 'data\\_10k\\_sample'\n",
       "\\item 'data\\_100k\\_sample'\n",
       "\\end{enumerate*}\n"
      ],
      "text/markdown": [
       "1. 'expunge'\n",
       "2. 'ids_1k_sample'\n",
       "3. 'ids_10k_sample'\n",
       "4. 'ids_100k_sample'\n",
       "5. 'data_1k_sample'\n",
       "6. 'data_10k_sample'\n",
       "7. 'data_100k_sample'\n",
       "\n",
       "\n"
      ],
      "text/plain": [
       "[1] \"expunge\"          \"ids_1k_sample\"    \"ids_10k_sample\"   \"ids_100k_sample\" \n",
       "[5] \"data_1k_sample\"   \"data_10k_sample\"  \"data_100k_sample\""
      ]
     },
     "metadata": {},
     "output_type": "display_data"
    }
   ],
   "source": [
    "# you can check the currently existing tables with this\n",
    "dbListTables(DB_CON)"
   ]
  },
  {
   "cell_type": "code",
   "execution_count": 66,
   "id": "036a4c93-a0ce-4509-b4cd-a371c5cc23c5",
   "metadata": {},
   "outputs": [
    {
     "name": "stderr",
     "output_type": "stream",
     "text": [
      "Classifying 1000 ID's from data_1k_sample and writing to test_table_jupyter_seth127\n",
      "\n",
      "  Finished 100 ID's in 0.2 minutes.\n",
      "\n",
      "  Finished 200 ID's in 0.4 minutes.\n",
      "\n",
      "  Finished 300 ID's in 0.6 minutes.\n",
      "\n",
      "  Finished 400 ID's in 0.8 minutes.\n",
      "\n",
      "  Finished 500 ID's in 1 minutes.\n",
      "\n",
      "  Finished 600 ID's in 1.2 minutes.\n",
      "\n",
      "  Finished 700 ID's in 1.4 minutes.\n",
      "\n",
      "  Finished 800 ID's in 1.6 minutes.\n",
      "\n",
      "  Finished 900 ID's in 1.8 minutes.\n",
      "\n",
      "  Finished 1000 ID's in 1.9 minutes.\n",
      "\n",
      "All done, in 1.9 minutes.\n",
      "\n"
     ]
    }
   ],
   "source": [
    "# now run the classifier\n",
    "classify_table(\n",
    "    input_table = .table, \n",
    "    output_table = .nt,\n",
    "    classifier_func = classify_ex2,\n",
    "    update_every = 100\n",
    ")"
   ]
  },
  {
   "cell_type": "code",
   "execution_count": 50,
   "id": "c1e7108b-e1fe-4d58-9d95-8fd93e639f43",
   "metadata": {},
   "outputs": [],
   "source": []
  },
  {
   "cell_type": "markdown",
   "id": "42024ee1-37d8-49f5-8c6b-6ee434eb5c9c",
   "metadata": {},
   "source": [
    "# Analysis\n",
    "\n",
    "You can now do analysis queries on your new table. Use the `DB_CON` object (loaded from `helper-functions-db.R`) to connect to the database, and any `DBI` functions to query it. [This page](https://dbi.r-dbi.org/) has some helpful examples."
   ]
  },
  {
   "cell_type": "code",
   "execution_count": 68,
   "id": "325759d9-d3d0-45b9-9115-5a6b626bba5c",
   "metadata": {},
   "outputs": [
    {
     "data": {
      "text/html": [
       "<table class=\"dataframe\">\n",
       "<caption>A data.frame: 5 × 4</caption>\n",
       "<thead>\n",
       "\t<tr><th scope=col>person_id</th><th scope=col>HearingDate</th><th scope=col>expungable</th><th scope=col>reason</th></tr>\n",
       "\t<tr><th scope=col>&lt;chr&gt;</th><th scope=col>&lt;date&gt;</th><th scope=col>&lt;chr&gt;</th><th scope=col>&lt;chr&gt;</th></tr>\n",
       "</thead>\n",
       "<tbody>\n",
       "\t<tr><td>127051000000102</td><td>2008-12-01</td><td>Petition    </td><td>Dismissal of misdemeanor charges with no arrests or charges in the past 3 years, but with prior convictions on the person's record                                                                                                                                                                                                                                                                                                                                                                                                                                                             </td></tr>\n",
       "\t<tr><td>127051000000102</td><td>2012-01-30</td><td>Petition    </td><td>Dismissal of misdemeanor charges with no arrests or charges in the past 3 years, but with prior convictions on the person's record                                                                                                                                                                                                                                                                                                                                                                                                                                                             </td></tr>\n",
       "\t<tr><td>127051000000102</td><td>2012-01-30</td><td>Petition    </td><td>Dismissal of misdemeanor charges with no arrests or charges in the past 3 years, but with prior convictions on the person's record                                                                                                                                                                                                                                                                                                                                                                                                                                                             </td></tr>\n",
       "\t<tr><td>127051000000102</td><td>2012-09-27</td><td>Not eligible</td><td>Conviction or deferred dismissal of felony charges that are not ones listed under 19.2-392.12, with no felonies within the last 10 years, no class 3 or 4 felony conviction within the past 20 years, no class 1 or 2 felony or any other felony punishable by imprisonment for life, and no convictions of another kind since disposition date. However, because the disposition date is within 10 years of the current date, the record is not yet eligible for expungement; HOWEVER, the outcome is changed to not eligible because the lifetime limit of two expungements has been exceeded</td></tr>\n",
       "\t<tr><td>270120000000917</td><td>2007-11-14</td><td>Automatic   </td><td>Conviction of misdemeanor charges listed in 19.2-392.6 B with no convictions within 7 years from disposition date                                                                                                                                                                                                                                                                                                                                                                                                                                                                              </td></tr>\n",
       "</tbody>\n",
       "</table>\n"
      ],
      "text/latex": [
       "A data.frame: 5 × 4\n",
       "\\begin{tabular}{llll}\n",
       " person\\_id & HearingDate & expungable & reason\\\\\n",
       " <chr> & <date> & <chr> & <chr>\\\\\n",
       "\\hline\n",
       "\t 127051000000102 & 2008-12-01 & Petition     & Dismissal of misdemeanor charges with no arrests or charges in the past 3 years, but with prior convictions on the person's record                                                                                                                                                                                                                                                                                                                                                                                                                                                             \\\\\n",
       "\t 127051000000102 & 2012-01-30 & Petition     & Dismissal of misdemeanor charges with no arrests or charges in the past 3 years, but with prior convictions on the person's record                                                                                                                                                                                                                                                                                                                                                                                                                                                             \\\\\n",
       "\t 127051000000102 & 2012-01-30 & Petition     & Dismissal of misdemeanor charges with no arrests or charges in the past 3 years, but with prior convictions on the person's record                                                                                                                                                                                                                                                                                                                                                                                                                                                             \\\\\n",
       "\t 127051000000102 & 2012-09-27 & Not eligible & Conviction or deferred dismissal of felony charges that are not ones listed under 19.2-392.12, with no felonies within the last 10 years, no class 3 or 4 felony conviction within the past 20 years, no class 1 or 2 felony or any other felony punishable by imprisonment for life, and no convictions of another kind since disposition date. However, because the disposition date is within 10 years of the current date, the record is not yet eligible for expungement; HOWEVER, the outcome is changed to not eligible because the lifetime limit of two expungements has been exceeded\\\\\n",
       "\t 270120000000917 & 2007-11-14 & Automatic    & Conviction of misdemeanor charges listed in 19.2-392.6 B with no convictions within 7 years from disposition date                                                                                                                                                                                                                                                                                                                                                                                                                                                                              \\\\\n",
       "\\end{tabular}\n"
      ],
      "text/markdown": [
       "\n",
       "A data.frame: 5 × 4\n",
       "\n",
       "| person_id &lt;chr&gt; | HearingDate &lt;date&gt; | expungable &lt;chr&gt; | reason &lt;chr&gt; |\n",
       "|---|---|---|---|\n",
       "| 127051000000102 | 2008-12-01 | Petition     | Dismissal of misdemeanor charges with no arrests or charges in the past 3 years, but with prior convictions on the person's record                                                                                                                                                                                                                                                                                                                                                                                                                                                              |\n",
       "| 127051000000102 | 2012-01-30 | Petition     | Dismissal of misdemeanor charges with no arrests or charges in the past 3 years, but with prior convictions on the person's record                                                                                                                                                                                                                                                                                                                                                                                                                                                              |\n",
       "| 127051000000102 | 2012-01-30 | Petition     | Dismissal of misdemeanor charges with no arrests or charges in the past 3 years, but with prior convictions on the person's record                                                                                                                                                                                                                                                                                                                                                                                                                                                              |\n",
       "| 127051000000102 | 2012-09-27 | Not eligible | Conviction or deferred dismissal of felony charges that are not ones listed under 19.2-392.12, with no felonies within the last 10 years, no class 3 or 4 felony conviction within the past 20 years, no class 1 or 2 felony or any other felony punishable by imprisonment for life, and no convictions of another kind since disposition date. However, because the disposition date is within 10 years of the current date, the record is not yet eligible for expungement; HOWEVER, the outcome is changed to not eligible because the lifetime limit of two expungements has been exceeded |\n",
       "| 270120000000917 | 2007-11-14 | Automatic    | Conviction of misdemeanor charges listed in 19.2-392.6 B with no convictions within 7 years from disposition date                                                                                                                                                                                                                                                                                                                                                                                                                                                                               |\n",
       "\n"
      ],
      "text/plain": [
       "  person_id       HearingDate expungable  \n",
       "1 127051000000102 2008-12-01  Petition    \n",
       "2 127051000000102 2012-01-30  Petition    \n",
       "3 127051000000102 2012-01-30  Petition    \n",
       "4 127051000000102 2012-09-27  Not eligible\n",
       "5 270120000000917 2007-11-14  Automatic   \n",
       "  reason                                                                                                                                                                                                                                                                                                                                                                                                                                                                                                                                                                                         \n",
       "1 Dismissal of misdemeanor charges with no arrests or charges in the past 3 years, but with prior convictions on the person's record                                                                                                                                                                                                                                                                                                                                                                                                                                                             \n",
       "2 Dismissal of misdemeanor charges with no arrests or charges in the past 3 years, but with prior convictions on the person's record                                                                                                                                                                                                                                                                                                                                                                                                                                                             \n",
       "3 Dismissal of misdemeanor charges with no arrests or charges in the past 3 years, but with prior convictions on the person's record                                                                                                                                                                                                                                                                                                                                                                                                                                                             \n",
       "4 Conviction or deferred dismissal of felony charges that are not ones listed under 19.2-392.12, with no felonies within the last 10 years, no class 3 or 4 felony conviction within the past 20 years, no class 1 or 2 felony or any other felony punishable by imprisonment for life, and no convictions of another kind since disposition date. However, because the disposition date is within 10 years of the current date, the record is not yet eligible for expungement; HOWEVER, the outcome is changed to not eligible because the lifetime limit of two expungements has been exceeded\n",
       "5 Conviction of misdemeanor charges listed in 19.2-392.6 B with no convictions within 7 years from disposition date                                                                                                                                                                                                                                                                                                                                                                                                                                                                              "
      ]
     },
     "metadata": {},
     "output_type": "display_data"
    }
   ],
   "source": [
    "# get all the columns for the first 5 rows\n",
    "res <- dbSendQuery(DB_CON, glue('SELECT * FROM {.nt} LIMIT 5'))\n",
    "res_df <- dbFetch(res) # get result and assign to R data.frame\n",
    "dbClearResult(res) # tell the db to close this query\n",
    "\n",
    "res_df %>% select(person_id, HearingDate, expungable, reason)"
   ]
  },
  {
   "cell_type": "code",
   "execution_count": 22,
   "id": "6a2a2323-b2e7-48d8-828d-5d3ca81b124f",
   "metadata": {},
   "outputs": [
    {
     "data": {
      "text/html": [
       "<style>\n",
       ".list-inline {list-style: none; margin:0; padding: 0}\n",
       ".list-inline>li {display: inline-block}\n",
       ".list-inline>li:not(:last-child)::after {content: \"\\00b7\"; padding: 0 .5ex}\n",
       "</style>\n",
       "<ol class=list-inline><li>'person_id'</li><li>'HearingDate'</li><li>'CodeSection'</li><li>'codesection'</li><li>'ChargeType'</li><li>'chargetype'</li><li>'Class'</li><li>'DispositionCode'</li><li>'disposition'</li><li>'Plea'</li><li>'Race'</li><li>'Sex'</li><li>'fips'</li><li>'convictions'</li><li>'arrests'</li><li>'felony10'</li><li>'sevenyear'</li><li>'tenyear'</li><li>'within7'</li><li>'within10'</li><li>'class1_2'</li><li>'class3_4'</li><li>'expungable'</li><li>'old_expungable'</li><li>'expungable_no_lifetimelimit'</li><li>'reason'</li><li>'sameday'</li><li>'lifetime'</li></ol>\n"
      ],
      "text/latex": [
       "\\begin{enumerate*}\n",
       "\\item 'person\\_id'\n",
       "\\item 'HearingDate'\n",
       "\\item 'CodeSection'\n",
       "\\item 'codesection'\n",
       "\\item 'ChargeType'\n",
       "\\item 'chargetype'\n",
       "\\item 'Class'\n",
       "\\item 'DispositionCode'\n",
       "\\item 'disposition'\n",
       "\\item 'Plea'\n",
       "\\item 'Race'\n",
       "\\item 'Sex'\n",
       "\\item 'fips'\n",
       "\\item 'convictions'\n",
       "\\item 'arrests'\n",
       "\\item 'felony10'\n",
       "\\item 'sevenyear'\n",
       "\\item 'tenyear'\n",
       "\\item 'within7'\n",
       "\\item 'within10'\n",
       "\\item 'class1\\_2'\n",
       "\\item 'class3\\_4'\n",
       "\\item 'expungable'\n",
       "\\item 'old\\_expungable'\n",
       "\\item 'expungable\\_no\\_lifetimelimit'\n",
       "\\item 'reason'\n",
       "\\item 'sameday'\n",
       "\\item 'lifetime'\n",
       "\\end{enumerate*}\n"
      ],
      "text/markdown": [
       "1. 'person_id'\n",
       "2. 'HearingDate'\n",
       "3. 'CodeSection'\n",
       "4. 'codesection'\n",
       "5. 'ChargeType'\n",
       "6. 'chargetype'\n",
       "7. 'Class'\n",
       "8. 'DispositionCode'\n",
       "9. 'disposition'\n",
       "10. 'Plea'\n",
       "11. 'Race'\n",
       "12. 'Sex'\n",
       "13. 'fips'\n",
       "14. 'convictions'\n",
       "15. 'arrests'\n",
       "16. 'felony10'\n",
       "17. 'sevenyear'\n",
       "18. 'tenyear'\n",
       "19. 'within7'\n",
       "20. 'within10'\n",
       "21. 'class1_2'\n",
       "22. 'class3_4'\n",
       "23. 'expungable'\n",
       "24. 'old_expungable'\n",
       "25. 'expungable_no_lifetimelimit'\n",
       "26. 'reason'\n",
       "27. 'sameday'\n",
       "28. 'lifetime'\n",
       "\n",
       "\n"
      ],
      "text/plain": [
       " [1] \"person_id\"                   \"HearingDate\"                \n",
       " [3] \"CodeSection\"                 \"codesection\"                \n",
       " [5] \"ChargeType\"                  \"chargetype\"                 \n",
       " [7] \"Class\"                       \"DispositionCode\"            \n",
       " [9] \"disposition\"                 \"Plea\"                       \n",
       "[11] \"Race\"                        \"Sex\"                        \n",
       "[13] \"fips\"                        \"convictions\"                \n",
       "[15] \"arrests\"                     \"felony10\"                   \n",
       "[17] \"sevenyear\"                   \"tenyear\"                    \n",
       "[19] \"within7\"                     \"within10\"                   \n",
       "[21] \"class1_2\"                    \"class3_4\"                   \n",
       "[23] \"expungable\"                  \"old_expungable\"             \n",
       "[25] \"expungable_no_lifetimelimit\" \"reason\"                     \n",
       "[27] \"sameday\"                     \"lifetime\"                   "
      ]
     },
     "metadata": {},
     "output_type": "display_data"
    }
   ],
   "source": [
    "# see all the column names\n",
    "names(res_df)\n",
    "# note that when if you want to query postgres with case-sensitive column names, \n",
    "# you have to put them in double quotes, which is very annoying."
   ]
  },
  {
   "cell_type": "code",
   "execution_count": 26,
   "id": "83e998b9-c10b-4366-a14b-b843d0ecf473",
   "metadata": {},
   "outputs": [
    {
     "data": {
      "text/html": [
       "<table class=\"dataframe\">\n",
       "<caption>A data.frame: 25 × 3</caption>\n",
       "<thead>\n",
       "\t<tr><th scope=col>Race</th><th scope=col>Sex</th><th scope=col>count</th></tr>\n",
       "\t<tr><th scope=col>&lt;chr&gt;</th><th scope=col>&lt;chr&gt;</th><th scope=col>&lt;int64&gt;</th></tr>\n",
       "</thead>\n",
       "<tbody>\n",
       "\t<tr><td>American Indian                            </td><td>Male  </td><td>  3</td></tr>\n",
       "\t<tr><td>Asian Or Pacific Islander                  </td><td>Female</td><td> 11</td></tr>\n",
       "\t<tr><td>Asian Or Pacific Islander                  </td><td>Male  </td><td> 16</td></tr>\n",
       "\t<tr><td>Black                                      </td><td>Female</td><td>  2</td></tr>\n",
       "\t<tr><td>Black                                      </td><td>Male  </td><td>  8</td></tr>\n",
       "\t<tr><td>Black (Non-Hispanic)                       </td><td>Female</td><td> 69</td></tr>\n",
       "\t<tr><td>Black (Non-Hispanic)                       </td><td>Male  </td><td>242</td></tr>\n",
       "\t<tr><td>Black(Non-Hispanic)                        </td><td>Female</td><td>277</td></tr>\n",
       "\t<tr><td>Black(Non-Hispanic)                        </td><td>Male  </td><td>587</td></tr>\n",
       "\t<tr><td>Hispanic                                   </td><td>Female</td><td> 11</td></tr>\n",
       "\t<tr><td>Hispanic                                   </td><td>Male  </td><td> 77</td></tr>\n",
       "\t<tr><td>MISSING                                    </td><td>Female</td><td>  4</td></tr>\n",
       "\t<tr><td>MISSING                                    </td><td>Male  </td><td>  6</td></tr>\n",
       "\t<tr><td>Other (Includes Not Applicable.. Unknown)  </td><td>Female</td><td>  2</td></tr>\n",
       "\t<tr><td>Other (Includes Not Applicable.. Unknown)  </td><td>Male  </td><td>  6</td></tr>\n",
       "\t<tr><td>Other(Includes Not Applicable.. Unknown)   </td><td>Female</td><td>  8</td></tr>\n",
       "\t<tr><td>Other(Includes Not Applicable.. Unknown)   </td><td>Male  </td><td> 19</td></tr>\n",
       "\t<tr><td>Unknown (Includes Not Applicable.. Unknown)</td><td>Female</td><td>  5</td></tr>\n",
       "\t<tr><td>Unknown (Includes Not Applicable.. Unknown)</td><td>Male  </td><td>  6</td></tr>\n",
       "\t<tr><td>White                                      </td><td>Female</td><td> 10</td></tr>\n",
       "\t<tr><td>White                                      </td><td>Male  </td><td>  7</td></tr>\n",
       "\t<tr><td>White Caucasian (Non-Hispanic)             </td><td>Female</td><td> 72</td></tr>\n",
       "\t<tr><td>White Caucasian (Non-Hispanic)             </td><td>Male  </td><td>270</td></tr>\n",
       "\t<tr><td>White Caucasian(Non-Hispanic)              </td><td>Female</td><td>335</td></tr>\n",
       "\t<tr><td>White Caucasian(Non-Hispanic)              </td><td>Male  </td><td>758</td></tr>\n",
       "</tbody>\n",
       "</table>\n"
      ],
      "text/latex": [
       "A data.frame: 25 × 3\n",
       "\\begin{tabular}{lll}\n",
       " Race & Sex & count\\\\\n",
       " <chr> & <chr> & <int64>\\\\\n",
       "\\hline\n",
       "\t American Indian                             & Male   &   3\\\\\n",
       "\t Asian Or Pacific Islander                   & Female &  11\\\\\n",
       "\t Asian Or Pacific Islander                   & Male   &  16\\\\\n",
       "\t Black                                       & Female &   2\\\\\n",
       "\t Black                                       & Male   &   8\\\\\n",
       "\t Black (Non-Hispanic)                        & Female &  69\\\\\n",
       "\t Black (Non-Hispanic)                        & Male   & 242\\\\\n",
       "\t Black(Non-Hispanic)                         & Female & 277\\\\\n",
       "\t Black(Non-Hispanic)                         & Male   & 587\\\\\n",
       "\t Hispanic                                    & Female &  11\\\\\n",
       "\t Hispanic                                    & Male   &  77\\\\\n",
       "\t MISSING                                     & Female &   4\\\\\n",
       "\t MISSING                                     & Male   &   6\\\\\n",
       "\t Other (Includes Not Applicable.. Unknown)   & Female &   2\\\\\n",
       "\t Other (Includes Not Applicable.. Unknown)   & Male   &   6\\\\\n",
       "\t Other(Includes Not Applicable.. Unknown)    & Female &   8\\\\\n",
       "\t Other(Includes Not Applicable.. Unknown)    & Male   &  19\\\\\n",
       "\t Unknown (Includes Not Applicable.. Unknown) & Female &   5\\\\\n",
       "\t Unknown (Includes Not Applicable.. Unknown) & Male   &   6\\\\\n",
       "\t White                                       & Female &  10\\\\\n",
       "\t White                                       & Male   &   7\\\\\n",
       "\t White Caucasian (Non-Hispanic)              & Female &  72\\\\\n",
       "\t White Caucasian (Non-Hispanic)              & Male   & 270\\\\\n",
       "\t White Caucasian(Non-Hispanic)               & Female & 335\\\\\n",
       "\t White Caucasian(Non-Hispanic)               & Male   & 758\\\\\n",
       "\\end{tabular}\n"
      ],
      "text/markdown": [
       "\n",
       "A data.frame: 25 × 3\n",
       "\n",
       "| Race &lt;chr&gt; | Sex &lt;chr&gt; | count &lt;int64&gt; |\n",
       "|---|---|---|\n",
       "| American Indian                             | Male   |   3 |\n",
       "| Asian Or Pacific Islander                   | Female |  11 |\n",
       "| Asian Or Pacific Islander                   | Male   |  16 |\n",
       "| Black                                       | Female |   2 |\n",
       "| Black                                       | Male   |   8 |\n",
       "| Black (Non-Hispanic)                        | Female |  69 |\n",
       "| Black (Non-Hispanic)                        | Male   | 242 |\n",
       "| Black(Non-Hispanic)                         | Female | 277 |\n",
       "| Black(Non-Hispanic)                         | Male   | 587 |\n",
       "| Hispanic                                    | Female |  11 |\n",
       "| Hispanic                                    | Male   |  77 |\n",
       "| MISSING                                     | Female |   4 |\n",
       "| MISSING                                     | Male   |   6 |\n",
       "| Other (Includes Not Applicable.. Unknown)   | Female |   2 |\n",
       "| Other (Includes Not Applicable.. Unknown)   | Male   |   6 |\n",
       "| Other(Includes Not Applicable.. Unknown)    | Female |   8 |\n",
       "| Other(Includes Not Applicable.. Unknown)    | Male   |  19 |\n",
       "| Unknown (Includes Not Applicable.. Unknown) | Female |   5 |\n",
       "| Unknown (Includes Not Applicable.. Unknown) | Male   |   6 |\n",
       "| White                                       | Female |  10 |\n",
       "| White                                       | Male   |   7 |\n",
       "| White Caucasian (Non-Hispanic)              | Female |  72 |\n",
       "| White Caucasian (Non-Hispanic)              | Male   | 270 |\n",
       "| White Caucasian(Non-Hispanic)               | Female | 335 |\n",
       "| White Caucasian(Non-Hispanic)               | Male   | 758 |\n",
       "\n"
      ],
      "text/plain": [
       "   Race                                        Sex    count\n",
       "1  American Indian                             Male     3  \n",
       "2  Asian Or Pacific Islander                   Female  11  \n",
       "3  Asian Or Pacific Islander                   Male    16  \n",
       "4  Black                                       Female   2  \n",
       "5  Black                                       Male     8  \n",
       "6  Black (Non-Hispanic)                        Female  69  \n",
       "7  Black (Non-Hispanic)                        Male   242  \n",
       "8  Black(Non-Hispanic)                         Female 277  \n",
       "9  Black(Non-Hispanic)                         Male   587  \n",
       "10 Hispanic                                    Female  11  \n",
       "11 Hispanic                                    Male    77  \n",
       "12 MISSING                                     Female   4  \n",
       "13 MISSING                                     Male     6  \n",
       "14 Other (Includes Not Applicable.. Unknown)   Female   2  \n",
       "15 Other (Includes Not Applicable.. Unknown)   Male     6  \n",
       "16 Other(Includes Not Applicable.. Unknown)    Female   8  \n",
       "17 Other(Includes Not Applicable.. Unknown)    Male    19  \n",
       "18 Unknown (Includes Not Applicable.. Unknown) Female   5  \n",
       "19 Unknown (Includes Not Applicable.. Unknown) Male     6  \n",
       "20 White                                       Female  10  \n",
       "21 White                                       Male     7  \n",
       "22 White Caucasian (Non-Hispanic)              Female  72  \n",
       "23 White Caucasian (Non-Hispanic)              Male   270  \n",
       "24 White Caucasian(Non-Hispanic)               Female 335  \n",
       "25 White Caucasian(Non-Hispanic)               Male   758  "
      ]
     },
     "metadata": {},
     "output_type": "display_data"
    }
   ],
   "source": [
    "# get some counts\n",
    "res <- dbSendQuery(DB_CON, glue('\n",
    "SELECT \"Race\", \"Sex\", COUNT(expungable) \n",
    "FROM {.nt}\n",
    "GROUP BY \"Race\", \"Sex\"\n",
    "ORDER BY \"Race\", \"Sex\"\n",
    "'))\n",
    "res_df <- dbFetch(res) # get result and assign to R data.frame\n",
    "dbClearResult(res) # tell the db to close this query\n",
    "res_df"
   ]
  },
  {
   "cell_type": "code",
   "execution_count": null,
   "id": "e1605f13-deb4-4211-be6b-07afdc45376f",
   "metadata": {},
   "outputs": [],
   "source": []
  },
  {
   "cell_type": "code",
   "execution_count": 69,
   "id": "eaa89e9c-19d6-4e45-8c14-4f98786c8a13",
   "metadata": {},
   "outputs": [],
   "source": [
    "# if you want to delete your test table, uncomment this\n",
    "\n",
    "# dbRemoveTable(DB_CON, .nt)"
   ]
  },
  {
   "cell_type": "code",
   "execution_count": null,
   "id": "b6c7cce6-8bd4-4f67-b257-b4cf9e4b871b",
   "metadata": {},
   "outputs": [],
   "source": []
  }
 ],
 "metadata": {
  "kernelspec": {
   "display_name": "R",
   "language": "R",
   "name": "ir"
  },
  "language_info": {
   "codemirror_mode": "r",
   "file_extension": ".r",
   "mimetype": "text/x-r-source",
   "name": "R",
   "pygments_lexer": "r",
   "version": "4.0.5"
  }
 },
 "nbformat": 4,
 "nbformat_minor": 5
}
