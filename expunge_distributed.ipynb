{
 "cells": [
  {
   "cell_type": "markdown",
   "id": "a7e279bd-3cb6-468d-ae57-9f99c394051a",
   "metadata": {},
   "source": [
    "# Expungement Eligibility Classification - Parallel Featurization"
   ]
  },
  {
   "cell_type": "markdown",
   "id": "c926cd6a-d90f-4dd6-83be-528243b1ae69",
   "metadata": {},
   "source": [
    "## Dask Transformations"
   ]
  },
  {
   "cell_type": "markdown",
   "id": "64cbca82-ecd7-4053-a113-751fd33214fd",
   "metadata": {},
   "source": [
    "Loading up the Dask client is necessary to run processes on multiple workers"
   ]
  },
  {
   "cell_type": "code",
   "execution_count": null,
   "id": "925821dc-f00f-41d4-8a20-b3ba567012ce",
   "metadata": {
    "tags": []
   },
   "outputs": [],
   "source": [
    "import os\n",
    "\n",
    "import sqlalchemy as sa\n",
    "from sqlalchemy.sql import select\n",
    "from sqlalchemy import (\n",
    "    Table, \n",
    "    Column, \n",
    "    Integer, \n",
    "    String, \n",
    "    MetaData, \n",
    "    DateTime,\n",
    "    or_\n",
    ")\n",
    "import pandas as pd\n",
    "import numpy as np\n",
    "import dask.dataframe as dd"
   ]
  },
  {
   "cell_type": "code",
   "execution_count": null,
   "id": "2d754b01-6103-4f3e-9a63-78050bdc8e74",
   "metadata": {},
   "outputs": [],
   "source": [
    "from distributed import Client\n",
    "\n",
    "client = Client()\n",
    "client"
   ]
  },
  {
   "cell_type": "markdown",
   "id": "28b37b08-bfb2-4b52-b3ff-4850eca940e8",
   "metadata": {},
   "source": [
    "### Data Loading"
   ]
  },
  {
   "cell_type": "code",
   "execution_count": null,
   "id": "290bd747-124c-4c99-b54a-ba636c6fe7e4",
   "metadata": {
    "tags": []
   },
   "outputs": [],
   "source": [
    "USER = 'jupyter'\n",
    "PASSWORD = os.environ['POSTGRES_PASS']\n",
    "HOST = 'localhost'\n",
    "PORT = '5432'\n",
    "DB = 'expunge'\n",
    "\n",
    "DATABASE_URI = f\"postgresql://{USER}:{PASSWORD}@{HOST}:{PORT}/{DB}\"\n",
    "engine = sa.create_engine(DATABASE_URI)"
   ]
  },
  {
   "cell_type": "markdown",
   "id": "b3765d91-23a6-4fb2-9aad-987f60f95ed2",
   "metadata": {},
   "source": [
    "Loading SQL extension for useful spot-checking"
   ]
  },
  {
   "cell_type": "code",
   "execution_count": null,
   "id": "fcd77439-e144-4873-9db2-7e82c4a41cff",
   "metadata": {},
   "outputs": [],
   "source": [
    "%load_ext sql\n",
    "%sql {DATABASE_URI}"
   ]
  },
  {
   "cell_type": "markdown",
   "id": "40454168-38b4-43e3-b33c-8d1c47d7e45c",
   "metadata": {},
   "source": [
    "Dask DataFrame does not accept raw SQL, but will accept a SQLAlchemy ORM query object. We are using this to read data from `expunge` sorted by both `person_id` and `HearingDate`. This ordering is important for some of the partitioned aggregations. "
   ]
  },
  {
   "cell_type": "code",
   "execution_count": null,
   "id": "5b0d8018-ae9b-443f-abef-0190bc3853f4",
   "metadata": {},
   "outputs": [],
   "source": [
    "metadata_obj = MetaData()\n",
    "expunge = Table('expunge_clean', metadata_obj, # Full Dataset\n",
    "# expunge = Table('expunge_10k_clean', metadata_obj, # ~26K records\n",
    "# expunge = Table('expunge_1k_clean', metadata_obj, # ~26K records\n",
    "     Column('person_id', Integer),\n",
    "     Column('HearingDate', DateTime),\n",
    "     Column('CodeSection', String),\n",
    "     Column('ChargeType', String),\n",
    "     Column('Class', String),\n",
    "     Column('DispositionCode', String),\n",
    "     Column('Plea', String),\n",
    "     Column('Race', String),\n",
    "     Column('Sex', String),\n",
    "     Column('fips', Integer),\n",
    ")"
   ]
  },
  {
   "cell_type": "markdown",
   "id": "647b1e1d-3ea9-49d7-9ff9-76bdc95862cf",
   "metadata": {},
   "source": [
    "Here you can see the raw query string to which the `query` SQLAlchemy object translates"
   ]
  },
  {
   "cell_type": "code",
   "execution_count": null,
   "id": "21fab041-c497-4cf0-8041-9e5c84614c33",
   "metadata": {},
   "outputs": [],
   "source": [
    "query = (\n",
    "    select(expunge)\n",
    "    # Where clause just for testing, comment out for full run\n",
    "    .where(\n",
    "        or_(\n",
    "            expunge.c.person_id == 127051000000102, \n",
    "            expunge.c.person_id == 224010000000817,\n",
    "            expunge.c.person_id == 1000000000362\n",
    "        )\n",
    "    )\n",
    "    .order_by(expunge.c.person_id, expunge.c.HearingDate)\n",
    ")\n",
    "print(str(query))"
   ]
  },
  {
   "cell_type": "code",
   "execution_count": null,
   "id": "4d020af2-f750-411f-92b4-33a3d38d37c6",
   "metadata": {},
   "outputs": [],
   "source": [
    "meta_dict = {\n",
    "    'HearingDate': 'datetime64[ns]',\n",
    "    'CodeSection': str,\n",
    "    'ChargeType': str,\n",
    "    'Class': str,\n",
    "    'DispositionCode': str,\n",
    "    'Plea': str,\n",
    "    'Race': str,\n",
    "    'Sex': str,\n",
    "    'fips': 'int64'\n",
    "}\n",
    "\n",
    "meta_frame = pd.DataFrame(columns=meta_dict.keys()).astype(meta_dict)\n",
    "\n",
    "meta_frame.dtypes"
   ]
  },
  {
   "cell_type": "code",
   "execution_count": null,
   "id": "04db066d-d4d3-474d-939c-d980bd514852",
   "metadata": {
    "tags": []
   },
   "outputs": [],
   "source": [
    "%%time\n",
    "df = dd.read_sql_table(\n",
    "    table=query,\n",
    "    index_col='person_id',\n",
    "    uri=DATABASE_URI,\n",
    "#     npartitions=32,\n",
    "#     npartitions=8\n",
    "    meta=meta_frame\n",
    ")"
   ]
  },
  {
   "cell_type": "code",
   "execution_count": null,
   "id": "dd4edf19-f43e-479d-a5a6-b0f7c87e1dd2",
   "metadata": {},
   "outputs": [],
   "source": [
    "df"
   ]
  },
  {
   "cell_type": "code",
   "execution_count": null,
   "id": "754594d6-3839-445d-bf14-87c38d40fc5a",
   "metadata": {},
   "outputs": [],
   "source": [
    "pd.set_option('max_columns', None)"
   ]
  },
  {
   "cell_type": "code",
   "execution_count": null,
   "id": "5f2ea74c-d980-45a9-9ebd-25d3b1eb3187",
   "metadata": {},
   "outputs": [],
   "source": [
    "df.head()"
   ]
  },
  {
   "cell_type": "markdown",
   "id": "a32ab694-68e8-4178-8e58-452e2333e065",
   "metadata": {},
   "source": [
    "Number of partitions that the data is split into. Essentially, `npartitions` is equal to the number of separate Pandas DataFrames that Dask is operating on under the hood"
   ]
  },
  {
   "cell_type": "code",
   "execution_count": null,
   "id": "236d5039-5906-43ef-96fc-08724cbfc75c",
   "metadata": {},
   "outputs": [],
   "source": [
    "df.npartitions"
   ]
  },
  {
   "cell_type": "markdown",
   "id": "ecb74903-77f5-471c-b258-585c35b7adb3",
   "metadata": {},
   "source": [
    "These divisions are the cutoffs for the various partitions. Dask automatically generates the divisions, splitting data into ~100-250mb Pandas DataFrames. \n",
    "\n",
    "Since `person_id` is the index, Dask will guarantee that a given `person_id` always falls entirely within a single partition. This is important for performing aggregations on a single person_id without shuffling records across nodes."
   ]
  },
  {
   "cell_type": "code",
   "execution_count": null,
   "id": "47641419-979f-4cfe-9c1f-39dc46d60aee",
   "metadata": {},
   "outputs": [],
   "source": [
    "df.divisions[:5]"
   ]
  },
  {
   "cell_type": "markdown",
   "id": "4753c55e-645b-439f-89e9-2dd537d2efe7",
   "metadata": {},
   "source": [
    "### Data Cleaning & Featurization"
   ]
  },
  {
   "cell_type": "code",
   "execution_count": null,
   "id": "0b359ff3-210e-4434-897e-1f8045ff6e64",
   "metadata": {},
   "outputs": [],
   "source": [
    "df['CodeSection'] = df['CodeSection'].fillna('MISSING')"
   ]
  },
  {
   "cell_type": "code",
   "execution_count": null,
   "id": "920ece45-4170-46e8-ab64-c2c3a443a905",
   "metadata": {},
   "outputs": [],
   "source": [
    "VALID_DISPOSITIONS = [\n",
    "    'Guilty',\n",
    "    'Guilty In Absentia',\n",
    "    'Dismissed',\n",
    "    'Nolle Prosequi',\n",
    "    'Not Guilty',\n",
    "    'Not Guilty/Acquitted',\n",
    "    'No Indictment Presented',\n",
    "    'Not True Bill',\n",
    "    'Dismissed/Other'\n",
    "]\n",
    "\n",
    "df = df[\n",
    "    (~df['DispositionCode'].isna())\n",
    "    & (df['DispositionCode'].isin(VALID_DISPOSITIONS))\n",
    "]"
   ]
  },
  {
   "cell_type": "code",
   "execution_count": null,
   "id": "8d39877e-02ba-4dbc-9ebe-15f7538dfb33",
   "metadata": {},
   "outputs": [],
   "source": [
    "%%time\n",
    "DISPOSITION_MAP = {\n",
    "    'Nolle Prosequi': 'Dismissed',\n",
    "    'No Indictment Presented': 'Dismissed',\n",
    "    'Not True Bill': 'Dismissed',\n",
    "    'Dismissed/Other': 'Dismissed',\n",
    "    'Not Guilty': 'Dismissed',\n",
    "    'Not Guilty/Acquitted': 'Dismissed',\n",
    "    'Guilty In Absentia': 'Conviction',\n",
    "    'Guilty': 'Conviction',\n",
    "}\n",
    "\n",
    "df['disposition'] = df['DispositionCode'].replace(DISPOSITION_MAP)\n",
    "\n",
    "df.head()"
   ]
  },
  {
   "cell_type": "code",
   "execution_count": null,
   "id": "27fbe002-38df-427a-9f7b-0e64d0d3b657",
   "metadata": {},
   "outputs": [],
   "source": [
    "%%time\n",
    "deferral_pleas = [\n",
    "    'Alford',\n",
    "    'Guilty',\n",
    "    'Nolo Contendere'\n",
    "]\n",
    "\n",
    "deferral_conditions = (\n",
    "    (df['Plea'].isin(deferral_pleas))\n",
    "    & (df['disposition']=='Dismissed')\n",
    ")\n",
    "\n",
    "df['disposition'] = df['disposition'].mask(deferral_conditions, 'Deferral Dismissal')\n",
    "\n",
    "df[df['disposition']=='Deferral Dismissal'].head()"
   ]
  },
  {
   "cell_type": "code",
   "execution_count": null,
   "id": "22813454-78c8-4e8a-bd28-b6228bb80411",
   "metadata": {},
   "outputs": [],
   "source": [
    "%%time\n",
    "df['chargetype'] = df['ChargeType']\n",
    "\n",
    "df.head()"
   ]
  },
  {
   "cell_type": "code",
   "execution_count": null,
   "id": "3b942afb-08fc-491c-a329-425c009b2a60",
   "metadata": {},
   "outputs": [],
   "source": [
    "COVERED_SECTIONS_A = [\n",
    "    '4.1-305', \n",
    "    '18.2-250.1'\n",
    "]\n",
    "\n",
    "COVERED_SECTIONS_B = [\n",
    "    '4.1-305',\n",
    "    '18.2-96',\n",
    "    '18.2-103',\n",
    "    '18.2-119',\n",
    "    '18.2-120',\n",
    "    '18.2-134',\n",
    "    '18.2-250.1',\n",
    "    '18.2-415'\n",
    "]\n",
    "\n",
    "COVERED_SECTIONS_B_MISDEMEANOR = [\n",
    "    '18.2-248.1'\n",
    "]\n",
    "\n",
    "EXCLUDED_SECTIONS_TWELVE = [\n",
    "    '18.2-36.1',\n",
    "    '18.2-36.2',\n",
    "    '18.2-51.4',\n",
    "    '18.2-51.5',\n",
    "    '18.2-57.2',\n",
    "    '18.2-266',\n",
    "    '46.2-341.24'\n",
    "]"
   ]
  },
  {
   "cell_type": "code",
   "execution_count": null,
   "id": "40b31475-41e2-4ec3-9e84-375b429a7b96",
   "metadata": {},
   "outputs": [],
   "source": [
    "def assign_code_section(row):\n",
    "    if (\n",
    "        row['CodeSection'] in COVERED_SECTIONS_A \n",
    "        and row['disposition']=='Deferral Dismissal'\n",
    "    ):\n",
    "        return 'covered in 19.2-392.6 - A'\n",
    "    \n",
    "    elif (\n",
    "        row['CodeSection'] in COVERED_SECTIONS_B\n",
    "        or (\n",
    "            row['CodeSection'] in COVERED_SECTIONS_B_MISDEMEANOR\n",
    "            and row['chargetype']=='Misdemeanor'\n",
    "        )\n",
    "    ):\n",
    "        return 'covered in 19.2-392.6 - B'\n",
    "    \n",
    "    elif row['CodeSection'] in EXCLUDED_SECTIONS_TWELVE:\n",
    "        return 'excluded by 19.2-392.12'\n",
    "    \n",
    "    else:\n",
    "        return 'covered elsewhere'"
   ]
  },
  {
   "cell_type": "code",
   "execution_count": null,
   "id": "d806c371-e7f5-420b-a7c4-6295401d5719",
   "metadata": {},
   "outputs": [],
   "source": [
    "%%time\n",
    "df['codesection'] = df.map_partitions(\n",
    "    lambda df: df.apply(assign_code_section, axis=1),\n",
    "    meta=pd.Series(dtype=str)\n",
    ")\n",
    "\n",
    "df.head()"
   ]
  },
  {
   "cell_type": "code",
   "execution_count": null,
   "id": "144936cd-2e70-4efa-a632-6c8c04f1bde2",
   "metadata": {},
   "outputs": [],
   "source": [
    "def has_conviction(df):\n",
    "    conviction_map = (df['disposition']\n",
    "              .apply(lambda x: x=='Conviction')\n",
    "              .groupby('person_id')\n",
    "              .any())\n",
    "    \n",
    "    return df.index.map(conviction_map)"
   ]
  },
  {
   "cell_type": "code",
   "execution_count": null,
   "id": "21f00312-9dcb-42f9-96bb-8db6aca7b88b",
   "metadata": {},
   "outputs": [],
   "source": [
    "%%time\n",
    "df['convictions'] = df.map_partitions(\n",
    "    has_conviction,\n",
    "    meta=pd.Series(dtype=bool)\n",
    ")\n",
    "\n",
    "df.head()"
   ]
  },
  {
   "cell_type": "markdown",
   "id": "0c75b06d-a4a0-4196-b7b4-90e938bf52a2",
   "metadata": {},
   "source": [
    "**Question** - What about same day hearings?"
   ]
  },
  {
   "cell_type": "code",
   "execution_count": null,
   "id": "41349be4-bef1-40e3-8bd4-82069b0ae1f4",
   "metadata": {},
   "outputs": [],
   "source": [
    "def shift_hearing_date(df, shift_by):\n",
    "    return (\n",
    "        df.groupby('person_id')['HearingDate']\n",
    "          .shift(periods=shift_by)\n",
    "    )"
   ]
  },
  {
   "cell_type": "code",
   "execution_count": null,
   "id": "391c703a-8d51-42ca-b940-b7f4556215d6",
   "metadata": {},
   "outputs": [],
   "source": [
    "%%time\n",
    "df['last_hearing_date'] = df.map_partitions(\n",
    "    shift_hearing_date,\n",
    "    shift_by=1,\n",
    "    meta=pd.Series(dtype='datetime64[ns]')\n",
    ")\n",
    "\n",
    "df.head()"
   ]
  },
  {
   "cell_type": "code",
   "execution_count": null,
   "id": "a26034b8-3ed2-4096-ad8d-c4eb50a1cee2",
   "metadata": {},
   "outputs": [],
   "source": [
    "%%time\n",
    "df['next_hearing_date'] = df.map_partitions(\n",
    "    shift_hearing_date,\n",
    "    shift_by=-1,\n",
    "    meta=pd.Series(dtype='datetime64[ns]')\n",
    ")\n",
    "\n",
    "df.head()"
   ]
  },
  {
   "cell_type": "code",
   "execution_count": null,
   "id": "b2d80071-aedd-4ecf-9330-e96e34bbd9cd",
   "metadata": {},
   "outputs": [],
   "source": [
    "def get_felony_conviction_dates(df):\n",
    "    return np.where(\n",
    "        (df['disposition']=='Conviction') & (df['chargetype']=='Felony'), \n",
    "        df['HearingDate'],\n",
    "        np.datetime64('NaT')\n",
    "    )"
   ]
  },
  {
   "cell_type": "code",
   "execution_count": null,
   "id": "57b85dfd-5ab1-446e-814c-ea536410c715",
   "metadata": {},
   "outputs": [],
   "source": [
    "%%time\n",
    "df['felony_conviction_date'] = df.map_partitions(\n",
    "    get_felony_conviction_dates,\n",
    "    meta=pd.Series(dtype='datetime64[ns]')\n",
    ")\n",
    "\n",
    "df.head()"
   ]
  },
  {
   "cell_type": "code",
   "execution_count": null,
   "id": "2725ac37-ac2d-455a-9882-d9b5c2d23d1a",
   "metadata": {},
   "outputs": [],
   "source": [
    "def get_last_felony_conviction_date(df):\n",
    "    return (\n",
    "        df['felony_conviction_date']\n",
    "            .groupby('person_id')\n",
    "            .shift(1)\n",
    "            .groupby('person_id')\n",
    "            .ffill()\n",
    "            .fillna(pd.NaT)\n",
    "    )"
   ]
  },
  {
   "cell_type": "code",
   "execution_count": null,
   "id": "016698d5-e5e5-4c85-b7d9-0fc6b04fcf60",
   "metadata": {},
   "outputs": [],
   "source": [
    "%%time\n",
    "df['last_felony_conviction_date'] = df.map_partitions(\n",
    "    get_last_felony_conviction_date,\n",
    "    meta=pd.Series(dtype='datetime64[ns]')\n",
    ")\n",
    "df = df.drop('felony_conviction_date', axis='columns')\n",
    "\n",
    "df.head()"
   ]
  },
  {
   "cell_type": "code",
   "execution_count": null,
   "id": "be2cc425-e875-45ec-a9f0-33f5c5b09b44",
   "metadata": {},
   "outputs": [],
   "source": [
    "%%time\n",
    "df['days_since_last_hearing'] = df['HearingDate'] - df['last_hearing_date']\n",
    "df['days_until_next_hearing'] = df['next_hearing_date'] - df['HearingDate']\n",
    "df['days_since_last_felony_conviction'] = df['HearingDate'] - df['last_felony_conviction_date']\n",
    "\n",
    "df.head()"
   ]
  },
  {
   "cell_type": "code",
   "execution_count": null,
   "id": "6e61f2f7-584a-4efa-bcb9-64ea59810f3c",
   "metadata": {},
   "outputs": [],
   "source": [
    "df.head(20)[['disposition','chargetype','HearingDate','last_felony_conviction_date','days_since_last_felony_conviction']]"
   ]
  },
  {
   "cell_type": "markdown",
   "id": "36dc3fee-1ae0-4895-935c-9ac6cec84c94",
   "metadata": {},
   "source": [
    "## To Do - Features\n",
    "1. `days_until_next_conviction`\n",
    "2. `class_3_or_4_last_20`\n",
    "3. `class_1_or_2`"
   ]
  },
  {
   "cell_type": "markdown",
   "id": "d7f1e001-f3ee-42cd-bd53-461ea36a7de8",
   "metadata": {},
   "source": [
    "### Writing and Loading Data\n",
    "1. Write data to csv in `/tmp` directory\n",
    "2. Load data to PostGres via `COPY` statements\n",
    "\n",
    "This approach is *much* faster than loading via `df.to_sql`, since PostGres will help us load many records at once, instead of loading 1 by 1 via `INSERT` statements"
   ]
  },
  {
   "cell_type": "code",
   "execution_count": null,
   "id": "5ce3561d-ccc9-4215-a4fc-cd3b3ae0dcca",
   "metadata": {},
   "outputs": [],
   "source": [
    "target_dir = '/tmp/expunge_data'\n",
    "target_glob = f'{target_dir}/expunge_features-*.csv'\n",
    "\n",
    "return_val = os.system(f'rm -rf {target_glob}')"
   ]
  },
  {
   "cell_type": "code",
   "execution_count": null,
   "id": "c37b1c14-4ed8-4ec2-9b7d-471637ecc5e2",
   "metadata": {},
   "outputs": [],
   "source": [
    "%%time\n",
    "file_paths = df.to_csv(target_glob)\n",
    "\n",
    "file_paths[:5]"
   ]
  },
  {
   "cell_type": "markdown",
   "id": "74970e94-2072-4739-9327-09fc37397aca",
   "metadata": {},
   "source": [
    "Useful pandas functionality to approximate the SQL statement to create a table"
   ]
  },
  {
   "cell_type": "code",
   "execution_count": null,
   "id": "e3cc8aba-7e26-4c82-93df-bfe79c0aaa3f",
   "metadata": {},
   "outputs": [],
   "source": [
    "from pandas.io.sql import get_schema"
   ]
  },
  {
   "cell_type": "code",
   "execution_count": null,
   "id": "6a6c22d0-51b7-46f9-ac8f-d8b568043281",
   "metadata": {},
   "outputs": [],
   "source": [
    "print(get_schema(df.head(), 'expunge_features'))"
   ]
  },
  {
   "cell_type": "markdown",
   "id": "f2e697fa-6b5e-417b-a802-4edafbbf1047",
   "metadata": {},
   "source": [
    "We're truncating before loading to avoid duplicate rows on re-runs"
   ]
  },
  {
   "cell_type": "code",
   "execution_count": null,
   "id": "8111626e-1f56-46b5-8dd0-ad8a97da9fc9",
   "metadata": {},
   "outputs": [],
   "source": [
    "%%sql\n",
    "DROP TABLE expunge_features;"
   ]
  },
  {
   "cell_type": "code",
   "execution_count": null,
   "id": "78736d55-29fd-4030-8c95-0cfb1f0b5f22",
   "metadata": {
    "tags": []
   },
   "outputs": [],
   "source": [
    "engine.execute(\"\"\"\n",
    "    CREATE TABLE IF NOT EXISTS expunge_features (\n",
    "        person_id BIGINT,\n",
    "        \"HearingDate\" DATE,\n",
    "        \"CodeSection\" TEXT,\n",
    "        \"ChargeType\" TEXT,\n",
    "        \"Class\" TEXT,\n",
    "        \"DispositionCode\" TEXT,\n",
    "        \"Plea\" TEXT,\n",
    "        \"Race\" TEXT,\n",
    "        \"Sex\" TEXT,\n",
    "        \"fips\" INTEGER,\n",
    "        \"disposition\" TEXT,\n",
    "        \"chargetype\" TEXT,\n",
    "        \"codesection\" TEXT,\n",
    "        \"convictions\" BOOLEAN,\n",
    "        \"last_hearing_date\" DATE,\n",
    "        \"next_hearing_date\" DATE,\n",
    "        \"last_felony_conviction_date\" DATE,\n",
    "        \"days_since_last_hearing\" TEXT,\n",
    "        \"days_until_next_hearing\" TEXT,\n",
    "        \"days_since_last_felony_conviction\" TEXT\n",
    "    );\n",
    "    \n",
    "    TRUNCATE TABLE expunge_features;\n",
    "\"\"\")"
   ]
  },
  {
   "cell_type": "markdown",
   "id": "c7fe2a2e-c2a2-4758-ac3b-8053ba5fffa4",
   "metadata": {},
   "source": [
    "These `COPY` statements do all of the data loading from CSVs"
   ]
  },
  {
   "cell_type": "code",
   "execution_count": null,
   "id": "6f78c0aa-6c70-40a9-b73e-14cce34fd0ec",
   "metadata": {},
   "outputs": [],
   "source": [
    "for path in file_paths:\n",
    "    engine.execute(f\"\"\"\n",
    "        COPY expunge_features\n",
    "        FROM '{path}'\n",
    "        WITH CSV HEADER;\n",
    "        commit;\n",
    "    \"\"\")"
   ]
  },
  {
   "cell_type": "markdown",
   "id": "147d152a-44cc-4657-b570-216ba192e56b",
   "metadata": {},
   "source": [
    "Make sure the data made it to the database"
   ]
  },
  {
   "cell_type": "code",
   "execution_count": null,
   "id": "b1a8b580-e413-43cc-8ef5-fc05321e0433",
   "metadata": {},
   "outputs": [],
   "source": [
    "%%sql\n",
    "SELECT COUNT(*)\n",
    "FROM expunge_features"
   ]
  },
  {
   "cell_type": "markdown",
   "id": "aaeb7304-de81-47ff-bb9b-e6e687797f93",
   "metadata": {},
   "source": [
    "### Notes/Questions\n",
    "\n",
    "- `ChargeType` and `chargetype` appear the same in `expunge` - is that because of cleaning done post-load?"
   ]
  },
  {
   "cell_type": "markdown",
   "id": "2ea0aa6a-2f71-408c-b761-b4528ead3ce3",
   "metadata": {},
   "source": [
    "### Added Columns\n",
    "- `last_hearing_date`\n",
    "- `last_felony_conviction_date`\n",
    "- `next_hearing_date`\n",
    "- `days_since_last_hearing`\n",
    "- `days_since_last_felony_conviction`\n",
    "- `days_until_next_hearing`"
   ]
  },
  {
   "cell_type": "code",
   "execution_count": null,
   "id": "76e2a287-4d89-436a-a8a8-886b68188039",
   "metadata": {},
   "outputs": [],
   "source": [
    "%%sql\n",
    "SELECT *\n",
    "FROM expunge_features\n",
    "LIMIT 10"
   ]
  },
  {
   "cell_type": "markdown",
   "id": "ae40ae60-116b-422b-a56a-faf90697e45e",
   "metadata": {},
   "source": [
    "## Tables for Testing"
   ]
  },
  {
   "cell_type": "markdown",
   "id": "36b1acb1-430c-417f-9502-95c1e15cceeb",
   "metadata": {},
   "source": [
    "Move 10k person_id's from clean table into materialized view for testing"
   ]
  },
  {
   "cell_type": "code",
   "execution_count": null,
   "id": "cb1548b7-e28b-464b-8a49-4593c5cc88a3",
   "metadata": {},
   "outputs": [],
   "source": [
    "%%sql\n",
    "CREATE MATERIALIZED VIEW expunge_10k_clean AS\n",
    "WITH ids AS (\n",
    "    SELECT \n",
    "        DISTINCT person_id\n",
    "    FROM expunge_clean\n",
    "    LIMIT 10000\n",
    ")\n",
    "SELECT e.*\n",
    "FROM expunge_clean e\n",
    "WHERE EXISTS (\n",
    "    SELECT 1\n",
    "    FROM ids i\n",
    "    WHERE i.person_id = e.person_id\n",
    ")\n",
    "ORDER BY e.person_id, e.\"HearingDate\""
   ]
  },
  {
   "cell_type": "code",
   "execution_count": null,
   "id": "09a603ec-d382-444b-a1a9-37c6cb1c54fb",
   "metadata": {},
   "outputs": [],
   "source": [
    "%%sql\n",
    "CREATE MATERIALIZED VIEW expunge_1k_clean AS\n",
    "WITH ids AS (\n",
    "    SELECT \n",
    "        DISTINCT person_id\n",
    "    FROM expunge_clean\n",
    "    LIMIT 1000\n",
    ")\n",
    "SELECT e.*\n",
    "FROM expunge_clean e\n",
    "WHERE EXISTS (\n",
    "    SELECT 1\n",
    "    FROM ids i\n",
    "    WHERE i.person_id = e.person_id\n",
    ")\n",
    "ORDER BY e.person_id, e.\"HearingDate\""
   ]
  },
  {
   "cell_type": "code",
   "execution_count": null,
   "id": "4239280a-1e49-4d85-a294-786106c76027",
   "metadata": {},
   "outputs": [],
   "source": [
    "%%sql\n",
    "SELECT *\n",
    "FROM expunge_1k_clean\n",
    "WHERE person_id = 1000000000003"
   ]
  },
  {
   "cell_type": "code",
   "execution_count": null,
   "id": "25c78100-cb44-459d-a896-a265131b30c4",
   "metadata": {},
   "outputs": [],
   "source": [
    "%%sql\n",
    "SELECT *\n",
    "FROM expunge_10k_clean\n",
    "ORDER BY person_id, \"HearingDate\"\n",
    "LIMIT 10"
   ]
  }
 ],
 "metadata": {
  "interpreter": {
   "hash": "2e7358e447c9dc1ced4800ad8399cf34358129357780172511015c56cf020c01"
  },
  "kernelspec": {
   "display_name": "distributed",
   "language": "python",
   "name": "python3"
  },
  "language_info": {
   "codemirror_mode": {
    "name": "ipython",
    "version": 3
   },
   "file_extension": ".py",
   "mimetype": "text/x-python",
   "name": "python",
   "nbconvert_exporter": "python",
   "pygments_lexer": "ipython3",
   "version": "3.7.10"
  }
 },
 "nbformat": 4,
 "nbformat_minor": 5
}
